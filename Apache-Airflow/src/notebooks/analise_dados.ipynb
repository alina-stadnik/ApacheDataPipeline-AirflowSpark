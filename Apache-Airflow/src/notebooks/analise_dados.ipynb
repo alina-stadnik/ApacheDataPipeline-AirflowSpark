{
 "cells": [
  {
   "cell_type": "markdown",
   "metadata": {},
   "source": [
    "### **Analisando os Dados (EDA)**\n",
    "\n",
    "**Objetivo**: analisar os dados obtidos após estruturação (camada Gold). \n",
    "\n",
    "A criação da camada Gold auxilia para realizar a análise dos dados obtidos, sendo útil para elaborar relatórios ou outra aplicabilidade, como por exemplo, implementação de algum modelo de ML."
   ]
  },
  {
   "cell_type": "code",
   "execution_count": 2,
   "metadata": {},
   "outputs": [],
   "source": [
    "import pandas as pd"
   ]
  },
  {
   "cell_type": "code",
   "execution_count": 6,
   "metadata": {},
   "outputs": [],
   "source": [
    "path_file = \"../../datalake/Gold/twitter_datascience/process_date=2024-07-05/part-00000-be014e0a-3b76-49eb-bd4e-2daf5fbe76b2-c000.json\"\n",
    "df = pd.read_json(path_file, lines=True)"
   ]
  },
  {
   "cell_type": "code",
   "execution_count": 7,
   "metadata": {},
   "outputs": [
    {
     "data": {
      "text/html": [
       "<div>\n",
       "<style scoped>\n",
       "    .dataframe tbody tr th:only-of-type {\n",
       "        vertical-align: middle;\n",
       "    }\n",
       "\n",
       "    .dataframe tbody tr th {\n",
       "        vertical-align: top;\n",
       "    }\n",
       "\n",
       "    .dataframe thead th {\n",
       "        text-align: right;\n",
       "    }\n",
       "</style>\n",
       "<table border=\"1\" class=\"dataframe\">\n",
       "  <thead>\n",
       "    <tr style=\"text-align: right;\">\n",
       "      <th></th>\n",
       "      <th>created_date</th>\n",
       "      <th>n_tweets</th>\n",
       "      <th>n_like</th>\n",
       "      <th>n_quote</th>\n",
       "      <th>n_reply</th>\n",
       "      <th>n_retweet</th>\n",
       "      <th>weekday</th>\n",
       "    </tr>\n",
       "  </thead>\n",
       "  <tbody>\n",
       "    <tr>\n",
       "      <th>0</th>\n",
       "      <td>2024-05-30</td>\n",
       "      <td>10</td>\n",
       "      <td>994</td>\n",
       "      <td>816</td>\n",
       "      <td>872</td>\n",
       "      <td>1166</td>\n",
       "      <td>Thu</td>\n",
       "    </tr>\n",
       "    <tr>\n",
       "      <th>1</th>\n",
       "      <td>2024-05-29</td>\n",
       "      <td>9</td>\n",
       "      <td>1068</td>\n",
       "      <td>1162</td>\n",
       "      <td>856</td>\n",
       "      <td>948</td>\n",
       "      <td>Wed</td>\n",
       "    </tr>\n",
       "    <tr>\n",
       "      <th>2</th>\n",
       "      <td>2024-06-02</td>\n",
       "      <td>45</td>\n",
       "      <td>5646</td>\n",
       "      <td>5560</td>\n",
       "      <td>6732</td>\n",
       "      <td>6100</td>\n",
       "      <td>Sun</td>\n",
       "    </tr>\n",
       "    <tr>\n",
       "      <th>3</th>\n",
       "      <td>2024-07-02</td>\n",
       "      <td>16</td>\n",
       "      <td>2372</td>\n",
       "      <td>2566</td>\n",
       "      <td>1942</td>\n",
       "      <td>2282</td>\n",
       "      <td>Tue</td>\n",
       "    </tr>\n",
       "    <tr>\n",
       "      <th>4</th>\n",
       "      <td>2024-05-31</td>\n",
       "      <td>18</td>\n",
       "      <td>1840</td>\n",
       "      <td>1886</td>\n",
       "      <td>2304</td>\n",
       "      <td>1750</td>\n",
       "      <td>Fri</td>\n",
       "    </tr>\n",
       "  </tbody>\n",
       "</table>\n",
       "</div>"
      ],
      "text/plain": [
       "  created_date  n_tweets  n_like  n_quote  n_reply  n_retweet weekday\n",
       "0   2024-05-30        10     994      816      872       1166     Thu\n",
       "1   2024-05-29         9    1068     1162      856        948     Wed\n",
       "2   2024-06-02        45    5646     5560     6732       6100     Sun\n",
       "3   2024-07-02        16    2372     2566     1942       2282     Tue\n",
       "4   2024-05-31        18    1840     1886     2304       1750     Fri"
      ]
     },
     "execution_count": 7,
     "metadata": {},
     "output_type": "execute_result"
    }
   ],
   "source": [
    "df.head()"
   ]
  },
  {
   "cell_type": "code",
   "execution_count": 8,
   "metadata": {},
   "outputs": [
    {
     "name": "stdout",
     "output_type": "stream",
     "text": [
      "<class 'pandas.core.frame.DataFrame'>\n",
      "RangeIndex: 13 entries, 0 to 12\n",
      "Data columns (total 7 columns):\n",
      " #   Column        Non-Null Count  Dtype \n",
      "---  ------        --------------  ----- \n",
      " 0   created_date  13 non-null     object\n",
      " 1   n_tweets      13 non-null     int64 \n",
      " 2   n_like        13 non-null     int64 \n",
      " 3   n_quote       13 non-null     int64 \n",
      " 4   n_reply       13 non-null     int64 \n",
      " 5   n_retweet     13 non-null     int64 \n",
      " 6   weekday       13 non-null     object\n",
      "dtypes: int64(5), object(2)\n",
      "memory usage: 856.0+ bytes\n"
     ]
    }
   ],
   "source": [
    "df.info()"
   ]
  },
  {
   "cell_type": "code",
   "execution_count": 9,
   "metadata": {},
   "outputs": [],
   "source": [
    "# Transformar a coluna de 'created_date' em formato de data\n",
    "df.created_date = pd.to_datetime(df.created_date)"
   ]
  },
  {
   "cell_type": "code",
   "execution_count": 12,
   "metadata": {},
   "outputs": [
    {
     "name": "stdout",
     "output_type": "stream",
     "text": [
      "<class 'pandas.core.frame.DataFrame'>\n",
      "RangeIndex: 13 entries, 0 to 12\n",
      "Data columns (total 7 columns):\n",
      " #   Column        Non-Null Count  Dtype         \n",
      "---  ------        --------------  -----         \n",
      " 0   created_date  13 non-null     datetime64[ns]\n",
      " 1   n_tweets      13 non-null     int64         \n",
      " 2   n_like        13 non-null     int64         \n",
      " 3   n_quote       13 non-null     int64         \n",
      " 4   n_reply       13 non-null     int64         \n",
      " 5   n_retweet     13 non-null     int64         \n",
      " 6   weekday       13 non-null     object        \n",
      "dtypes: datetime64[ns](1), int64(5), object(1)\n",
      "memory usage: 856.0+ bytes\n"
     ]
    }
   ],
   "source": [
    "df.info()"
   ]
  },
  {
   "cell_type": "code",
   "execution_count": 16,
   "metadata": {},
   "outputs": [
    {
     "data": {
      "text/plain": [
       "<Axes: title={'center': 'Weekly Twitter Activity'}, xlabel='weekday'>"
      ]
     },
     "execution_count": 16,
     "metadata": {},
     "output_type": "execute_result"
    },
    {
     "data": {
      "image/png": "[encoded data removed]",
      "text/plain": [
       "<Figure size 1000x600 with 1 Axes>"
      ]
     },
     "metadata": {},
     "output_type": "display_data"
    }
   ],
   "source": [
    "# Visualização\n",
    "\n",
    "# datetime64 não deixa fazer operação de soma:\n",
    "grouped_df = df.groupby(\"weekday\").sum(numeric_only=True).reset_index()\n",
    "\n",
    "# Plot os dados\n",
    "grouped_df.plot(kind=\"bar\", x=\"weekday\", y=[\"n_tweets\", \"n_like\", \"n_quote\", \"n_reply\"], figsize=(10, 6), title=\"Weekly Twitter Activity\")"
   ]
  }
 ],
 "metadata": {
  "kernelspec": {
   "display_name": "venv",
   "language": "python",
   "name": "python3"
  },
  "language_info": {
   "codemirror_mode": {
    "name": "ipython",
    "version": 3
   },
   "file_extension": ".py",
   "mimetype": "text/x-python",
   "name": "python",
   "nbconvert_exporter": "python",
   "pygments_lexer": "ipython3",
   "version": "3.10.12"
  }
 },
 "nbformat": 4,
 "nbformat_minor": 2
}
