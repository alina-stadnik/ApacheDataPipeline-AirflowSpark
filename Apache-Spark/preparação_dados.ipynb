{
  "cells": [
    {
      "cell_type": "markdown",
      "metadata": {
        "id": "BwhP2rhUGI_k"
      },
      "source": [
        "# **Parte 1 - Preparação dos Dados**"
      ]
    },
    {
      "cell_type": "code",
      "execution_count": 1,
      "metadata": {
        "colab": {
          "base_uri": "https://localhost:8080/"
        },
        "id": "4Gs-5LKuvWmE",
        "outputId": "e2cfbe93-921e-4f3d-cb9c-3e23a13c212e"
      },
      "outputs": [
        {
          "name": "stdout",
          "output_type": "stream",
          "text": [
            "Collecting pyspark\n",
            "  Downloading pyspark-3.5.1.tar.gz (317.0 MB)\n",
            "\u001b[2K     \u001b[90m━━━━━━━━━━━━━━━━━━━━━━━━━━━━━━━━━━━━━━━━\u001b[0m \u001b[32m317.0/317.0 MB\u001b[0m \u001b[31m2.7 MB/s\u001b[0m eta \u001b[36m0:00:00\u001b[0m\n",
            "\u001b[?25h  Preparing metadata (setup.py) ... \u001b[?25l\u001b[?25hdone\n",
            "Requirement already satisfied: py4j==0.10.9.7 in /usr/local/lib/python3.10/dist-packages (from pyspark) (0.10.9.7)\n",
            "Building wheels for collected packages: pyspark\n",
            "  Building wheel for pyspark (setup.py) ... \u001b[?25l\u001b[?25hdone\n",
            "  Created wheel for pyspark: filename=pyspark-3.5.1-py2.py3-none-any.whl size=317488491 sha256=0f9a39d24703ec2145caecf1926e8e9b5e97c0308da85ac52273492d08865571\n",
            "  Stored in directory: /root/.cache/pip/wheels/80/1d/60/2c256ed38dddce2fdd93be545214a63e02fbd8d74fb0b7f3a6\n",
            "Successfully built pyspark\n",
            "Installing collected packages: pyspark\n",
            "Successfully installed pyspark-3.5.1\n"
          ]
        }
      ],
      "source": [
        "!pip install pyspark"
      ]
    },
    {
      "cell_type": "markdown",
      "metadata": {
        "id": "43dP4NVZOEI2"
      },
      "source": [
        "### SparkSession: é como interagir com **Spark usando python (via API)**\n",
        "\n",
        "O ponto de entrada para programar o Spark com a API Dataset e DataFrame.\n",
        "\n",
        "Uma SparkSession pode ser utilizada para criar DataFrames, registrar DataFrames como tabelas, executar consultas SQL em tabelas, armazenar em cache e ler arquivos parquet. Para criar uma SparkSession, use o seguinte padrão de construtor:\n",
        "\n",
        "<font size=2>**Fonte:** [SparkSession](https://spark.apache.org/docs/latest/api/python/reference/api/pyspark.sql.SparkSession.html)</font>"
      ]
    },
    {
      "cell_type": "code",
      "execution_count": 2,
      "metadata": {
        "id": "1_WixBVIvvB-"
      },
      "outputs": [],
      "source": [
        "from pyspark.sql import SparkSession"
      ]
    },
    {
      "cell_type": "code",
      "execution_count": 3,
      "metadata": {
        "id": "H02jOAtLOpQY"
      },
      "outputs": [],
      "source": [
        "# comando master: onde estará rodando o sparksession\n",
        "# appname: nome da sessão (problema que estou tentando resolver)\n",
        "spark = SparkSession.builder.master('local[*]').appName(\"Classificação com Spark\").getOrCreate()"
      ]
    },
    {
      "cell_type": "code",
      "execution_count": 4,
      "metadata": {
        "colab": {
          "base_uri": "https://localhost:8080/",
          "height": 219
        },
        "id": "D_oUdiiTe0qE",
        "outputId": "e2f36afb-caa4-46d6-aa66-5ef736c7c61e"
      },
      "outputs": [
        {
          "data": {
            "text/html": [
              "\n",
              "            <div>\n",
              "                <p><b>SparkSession - in-memory</b></p>\n",
              "                \n",
              "        <div>\n",
              "            <p><b>SparkContext</b></p>\n",
              "\n",
              "            <p><a href=\"http://366db2d55d67:4040\">Spark UI</a></p>\n",
              "\n",
              "            <dl>\n",
              "              <dt>Version</dt>\n",
              "                <dd><code>v3.5.1</code></dd>\n",
              "              <dt>Master</dt>\n",
              "                <dd><code>local[*]</code></dd>\n",
              "              <dt>AppName</dt>\n",
              "                <dd><code>Classificação com Spark</code></dd>\n",
              "            </dl>\n",
              "        </div>\n",
              "        \n",
              "            </div>\n",
              "        "
            ],
            "text/plain": [
              "<pyspark.sql.session.SparkSession at 0x78f265f1a5f0>"
            ]
          },
          "execution_count": 4,
          "metadata": {},
          "output_type": "execute_result"
        }
      ],
      "source": [
        "spark"
      ]
    },
    {
      "cell_type": "markdown",
      "metadata": {
        "id": "lTCXBuuYfC01"
      },
      "source": [
        "> **Retorno desejado da variável Spark**: versão utilizada do Spark, o ambiente e o nome que foi definido."
      ]
    },
    {
      "cell_type": "markdown",
      "metadata": {
        "id": "BOQSXCsB-XJ4"
      },
      "source": [
        "## **1. Carregamento dos Dados**\n",
        "\n",
        "Utilização do método `spark.read.csv` do Spark SQL para carregar os dados em um DataFrame. Nessa etapa é importante verificar, através dos comandos `show`, `toPandas` e `count`, se os dados foram carregados da maneira correta.\n",
        "\n",
        "**Pontos de atenção** são sempre os parâmetros header e sep, que informam qual separador é usado no arquivo e se ele conta com cabeçalho."
      ]
    },
    {
      "cell_type": "code",
      "execution_count": 5,
      "metadata": {
        "colab": {
          "base_uri": "https://localhost:8080/"
        },
        "id": "OMtJD1YzfR1g",
        "outputId": "115cddb2-75dc-4f1a-80a7-287aa0aec8c3"
      },
      "outputs": [
        {
          "name": "stdout",
          "output_type": "stream",
          "text": [
            "Mounted at /content/drive\n"
          ]
        }
      ],
      "source": [
        "from google.colab import drive\n",
        "drive.mount('/content/drive')"
      ]
    },
    {
      "cell_type": "code",
      "execution_count": 6,
      "metadata": {
        "id": "SJHUlLAgfm7U"
      },
      "outputs": [],
      "source": [
        "#import zipfile\n",
        "#zipfile.ZipFile('/content/drive/MyDrive/curso-spark/base_dados/base de dados.zip', 'r').extractall('/content/drive/MyDrive/curso-spark/base_dados')\n",
        "dados_path = '/content/drive/MyDrive/curso-spark/base_dados/dados_clientes.csv'\n",
        "dados = spark.read.csv(dados_path, header=True, inferSchema=True)"
      ]
    },
    {
      "cell_type": "code",
      "execution_count": null,
      "metadata": {
        "colab": {
          "base_uri": "https://localhost:8080/"
        },
        "id": "bItkwybT-BOG",
        "outputId": "26bb1f19-e017-4a79-bd88-4a1665479cb2"
      },
      "outputs": [
        {
          "data": {
            "text/plain": [
              "DataFrame[id: int, Churn: string, Mais65anos: int, Conjuge: string, Dependentes: string, MesesDeContrato: int, TelefoneFixo: string, MaisDeUmaLinhaTelefonica: string, Internet: string, SegurancaOnline: string, BackupOnline: string, SeguroDispositivo: string, SuporteTecnico: string, TVaCabo: string, StreamingFilmes: string, TipoContrato: string, ContaCorreio: string, MetodoPagamento: string, MesesCobrados: double]"
            ]
          },
          "execution_count": 7,
          "metadata": {},
          "output_type": "execute_result"
        }
      ],
      "source": [
        "# estrutura do dataframe\n",
        "dados"
      ]
    },
    {
      "cell_type": "code",
      "execution_count": null,
      "metadata": {
        "colab": {
          "base_uri": "https://localhost:8080/"
        },
        "id": "WMx7nLWW-BIV",
        "outputId": "1e6e4a57-0f89-4650-8cf7-3bb550664853"
      },
      "outputs": [
        {
          "name": "stdout",
          "output_type": "stream",
          "text": [
            "+---+-----+----------+-------+-----------+---------------+------------+------------------------+-----------+---------------+------------+-----------------+--------------+-------+---------------+------------+------------+----------------+-------------+\n",
            "| id|Churn|Mais65anos|Conjuge|Dependentes|MesesDeContrato|TelefoneFixo|MaisDeUmaLinhaTelefonica|   Internet|SegurancaOnline|BackupOnline|SeguroDispositivo|SuporteTecnico|TVaCabo|StreamingFilmes|TipoContrato|ContaCorreio| MetodoPagamento|MesesCobrados|\n",
            "+---+-----+----------+-------+-----------+---------------+------------+------------------------+-----------+---------------+------------+-----------------+--------------+-------+---------------+------------+------------+----------------+-------------+\n",
            "|  0|  Nao|         0|    Sim|        Nao|              1|         Nao|    SemServicoTelefonico|        DSL|            Nao|         Sim|              Nao|           Nao|    Nao|            Nao| Mensalmente|         Sim|BoletoEletronico|        29.85|\n",
            "|  1|  Nao|         0|    Nao|        Nao|             34|         Sim|                     Nao|        DSL|            Sim|         Nao|              Sim|           Nao|    Nao|            Nao|       UmAno|         Nao|          Boleto|        56.95|\n",
            "|  2|  Sim|         0|    Nao|        Nao|              2|         Sim|                     Nao|        DSL|            Sim|         Sim|              Nao|           Nao|    Nao|            Nao| Mensalmente|         Sim|          Boleto|        53.85|\n",
            "|  3|  Nao|         0|    Nao|        Nao|             45|         Nao|    SemServicoTelefonico|        DSL|            Sim|         Nao|              Sim|           Sim|    Nao|            Nao|       UmAno|         Nao|   DebitoEmConta|         42.3|\n",
            "|  4|  Sim|         0|    Nao|        Nao|              2|         Sim|                     Nao|FibraOptica|            Nao|         Nao|              Nao|           Nao|    Nao|            Nao| Mensalmente|         Sim|BoletoEletronico|         70.7|\n",
            "+---+-----+----------+-------+-----------+---------------+------------+------------------------+-----------+---------------+------------+-----------------+--------------+-------+---------------+------------+------------+----------------+-------------+\n",
            "only showing top 5 rows\n",
            "\n"
          ]
        }
      ],
      "source": [
        "dados.show(5)"
      ]
    },
    {
      "cell_type": "markdown",
      "metadata": {
        "id": "YAcch_8QiPLc"
      },
      "source": [
        "- id: identificador do cliente;\n",
        "- Churn: cancelou ou não o serviço;\n",
        "- Mais65anos: variável binária, se tem é 1 e se não tem é 0;\n",
        "- Conjuge: variável binbária em formato de string;\n",
        "- MaisDeUmaLinhaTelefonica: mais de duas possibilidades;\n",
        "- Internet: mais de uma possibilidade;\n",
        "..."
      ]
    },
    {
      "cell_type": "code",
      "execution_count": null,
      "metadata": {
        "colab": {
          "base_uri": "https://localhost:8080/"
        },
        "id": "DyXF17Oo-BCw",
        "outputId": "9dfd8c91-5146-472c-d918-e3ba41738252"
      },
      "outputs": [
        {
          "data": {
            "text/plain": [
              "10348"
            ]
          },
          "execution_count": 9,
          "metadata": {},
          "output_type": "execute_result"
        }
      ],
      "source": [
        "# número de registros\n",
        "dados.count()"
      ]
    },
    {
      "cell_type": "code",
      "execution_count": null,
      "metadata": {
        "colab": {
          "base_uri": "https://localhost:8080/"
        },
        "id": "wOXJOUgGpi9z",
        "outputId": "5b4b7c03-6af8-4905-d1cc-cb1da87083db"
      },
      "outputs": [
        {
          "name": "stdout",
          "output_type": "stream",
          "text": [
            "+-----+-----+\n",
            "|Churn|count|\n",
            "+-----+-----+\n",
            "|  Sim| 5174|\n",
            "|  Nao| 5174|\n",
            "+-----+-----+\n",
            "\n"
          ]
        }
      ],
      "source": [
        "# verificar se está balanceado: pessoas que cancelaram é maior, menor ou igual a quem não cancelou?\n",
        "dados.select('Churn').groupBy('Churn').count().show()"
      ]
    },
    {
      "cell_type": "code",
      "execution_count": null,
      "metadata": {
        "colab": {
          "base_uri": "https://localhost:8080/"
        },
        "id": "qdthb-sNj9IH",
        "outputId": "79892337-7dbb-4607-b513-8848ae2ffa41"
      },
      "outputs": [
        {
          "name": "stdout",
          "output_type": "stream",
          "text": [
            "+-----+-----+\n",
            "|Churn|count|\n",
            "+-----+-----+\n",
            "|  Sim| 5174|\n",
            "|  Nao| 5174|\n",
            "+-----+-----+\n",
            "\n"
          ]
        }
      ],
      "source": [
        "# outra sintaxe com o mesmo efeito:\n",
        "dados.groupBy('Churn').count().show()"
      ]
    },
    {
      "cell_type": "code",
      "execution_count": null,
      "metadata": {
        "colab": {
          "base_uri": "https://localhost:8080/"
        },
        "id": "K18E1wBo9A8P",
        "outputId": "2e1a49c1-ffd5-4ecb-eb04-b00732357f59"
      },
      "outputs": [
        {
          "name": "stdout",
          "output_type": "stream",
          "text": [
            "root\n",
            " |-- id: integer (nullable = true)\n",
            " |-- Churn: string (nullable = true)\n",
            " |-- Mais65anos: integer (nullable = true)\n",
            " |-- Conjuge: string (nullable = true)\n",
            " |-- Dependentes: string (nullable = true)\n",
            " |-- MesesDeContrato: integer (nullable = true)\n",
            " |-- TelefoneFixo: string (nullable = true)\n",
            " |-- MaisDeUmaLinhaTelefonica: string (nullable = true)\n",
            " |-- Internet: string (nullable = true)\n",
            " |-- SegurancaOnline: string (nullable = true)\n",
            " |-- BackupOnline: string (nullable = true)\n",
            " |-- SeguroDispositivo: string (nullable = true)\n",
            " |-- SuporteTecnico: string (nullable = true)\n",
            " |-- TVaCabo: string (nullable = true)\n",
            " |-- StreamingFilmes: string (nullable = true)\n",
            " |-- TipoContrato: string (nullable = true)\n",
            " |-- ContaCorreio: string (nullable = true)\n",
            " |-- MetodoPagamento: string (nullable = true)\n",
            " |-- MesesCobrados: double (nullable = true)\n",
            "\n"
          ]
        }
      ],
      "source": [
        "# esquema dos dados e como Spark reconheceu os tipos dos dados\n",
        "# maioria está como string e isso é um problema para ML, que não irá reconhecer esse tipo\n",
        "dados.printSchema()"
      ]
    },
    {
      "cell_type": "markdown",
      "metadata": {
        "id": "blFAMaSBVV2u"
      },
      "source": [
        "## **2. Transformando os Dados**\n",
        "\n",
        "Analisando o tipo dos dados de cada coluna e também quais e quantas categorias existem para cada feature, é possível classificá-las e, assim, decidir a melhor abordagem para o preparo dos dados para os modelos de machine learning.\n",
        "\n",
        "<font size=2>**Fonte:** [Functions](https://spark.apache.org/docs/latest/api/python/reference/pyspark.sql.html#functions)</font>"
      ]
    },
    {
      "cell_type": "code",
      "execution_count": 7,
      "metadata": {
        "id": "mTav14ezr0Uf"
      },
      "outputs": [],
      "source": [
        "# Valores com 'Sim' ou 'Não'\n",
        "colunasBinarias = [\n",
        "    'Churn',\n",
        "    'Conjuge',\n",
        "    'Dependentes',\n",
        "    'TelefoneFixo',\n",
        "    'MaisDeUmaLinhaTelefonica',\n",
        "    'SegurancaOnline',\n",
        "    'BackupOnline',\n",
        "    'SeguroDispositivo',\n",
        "    'SuporteTecnico',\n",
        "    'TVaCabo',\n",
        "    'StreamingFilmes',\n",
        "    'ContaCorreio'\n",
        "]"
      ]
    },
    {
      "cell_type": "code",
      "execution_count": 8,
      "metadata": {
        "id": "DokzQv2rsnbC"
      },
      "outputs": [],
      "source": [
        "from pyspark.sql import functions as f"
      ]
    },
    {
      "cell_type": "code",
      "execution_count": 9,
      "metadata": {
        "colab": {
          "base_uri": "https://localhost:8080/"
        },
        "id": "sqW_vtly9rw0",
        "outputId": "b81dedff-ef03-4c30-e6d5-9ba557496f24"
      },
      "outputs": [
        {
          "data": {
            "text/plain": [
              "[Column<'CASE WHEN (Churn = Sim) THEN 1 ELSE 0 END AS Churn'>,\n",
              " Column<'CASE WHEN (Conjuge = Sim) THEN 1 ELSE 0 END AS Conjuge'>,\n",
              " Column<'CASE WHEN (Dependentes = Sim) THEN 1 ELSE 0 END AS Dependentes'>,\n",
              " Column<'CASE WHEN (TelefoneFixo = Sim) THEN 1 ELSE 0 END AS TelefoneFixo'>,\n",
              " Column<'CASE WHEN (MaisDeUmaLinhaTelefonica = Sim) THEN 1 ELSE 0 END AS MaisDeUmaLinhaTelefonica'>,\n",
              " Column<'CASE WHEN (SegurancaOnline = Sim) THEN 1 ELSE 0 END AS SegurancaOnline'>,\n",
              " Column<'CASE WHEN (BackupOnline = Sim) THEN 1 ELSE 0 END AS BackupOnline'>,\n",
              " Column<'CASE WHEN (SeguroDispositivo = Sim) THEN 1 ELSE 0 END AS SeguroDispositivo'>,\n",
              " Column<'CASE WHEN (SuporteTecnico = Sim) THEN 1 ELSE 0 END AS SuporteTecnico'>,\n",
              " Column<'CASE WHEN (TVaCabo = Sim) THEN 1 ELSE 0 END AS TVaCabo'>,\n",
              " Column<'CASE WHEN (StreamingFilmes = Sim) THEN 1 ELSE 0 END AS StreamingFilmes'>,\n",
              " Column<'CASE WHEN (ContaCorreio = Sim) THEN 1 ELSE 0 END AS ContaCorreio'>]"
            ]
          },
          "execution_count": 9,
          "metadata": {},
          "output_type": "execute_result"
        }
      ],
      "source": [
        "# 1: sim e 0: não > f.when(f.col(colName)=='Sim', 1).otherwise(0)\n",
        "# Update no nome da coluna para que não seja a regra da primeira função > .alias(colName)\n",
        "todasColunas = [f.when(f.col(colName)=='Sim', 1).otherwise(0).alias(colName) for colName in colunasBinarias]\n",
        "todasColunas # todas as colunas são apenas as colunas binárias"
      ]
    },
    {
      "cell_type": "code",
      "execution_count": 10,
      "metadata": {
        "id": "hzjn0jfTlfDL"
      },
      "outputs": [],
      "source": [
        "# dados.columns tem todas as colunas dos dados, mas não tem as transformações\n",
        "# quero organizar para que os dados binários fiquem no final > reversed()\n",
        "for coluna in reversed(dados.columns):\n",
        "  if coluna not in colunasBinarias: # objetivo: inserir as colunas que não tem na lista de colunas binárias\n",
        "    todasColunas.insert(0, coluna) # insere na primeira posição"
      ]
    },
    {
      "cell_type": "code",
      "execution_count": null,
      "metadata": {
        "colab": {
          "base_uri": "https://localhost:8080/"
        },
        "id": "7EyaeFdpmeoS",
        "outputId": "4c8ee4ed-2e71-4b6a-ac7a-db3350ce7da7"
      },
      "outputs": [
        {
          "data": {
            "text/plain": [
              "['id',\n",
              " 'Mais65anos',\n",
              " 'MesesDeContrato',\n",
              " 'Internet',\n",
              " 'TipoContrato',\n",
              " 'MetodoPagamento',\n",
              " 'MesesCobrados',\n",
              " Column<'CASE WHEN (Churn = Sim) THEN 1 ELSE 0 END AS Churn'>,\n",
              " Column<'CASE WHEN (Conjuge = Sim) THEN 1 ELSE 0 END AS Conjuge'>,\n",
              " Column<'CASE WHEN (Dependentes = Sim) THEN 1 ELSE 0 END AS Dependentes'>,\n",
              " Column<'CASE WHEN (TelefoneFixo = Sim) THEN 1 ELSE 0 END AS TelefoneFixo'>,\n",
              " Column<'CASE WHEN (MaisDeUmaLinhaTelefonica = Sim) THEN 1 ELSE 0 END AS MaisDeUmaLinhaTelefonica'>,\n",
              " Column<'CASE WHEN (SegurancaOnline = Sim) THEN 1 ELSE 0 END AS SegurancaOnline'>,\n",
              " Column<'CASE WHEN (BackupOnline = Sim) THEN 1 ELSE 0 END AS BackupOnline'>,\n",
              " Column<'CASE WHEN (SeguroDispositivo = Sim) THEN 1 ELSE 0 END AS SeguroDispositivo'>,\n",
              " Column<'CASE WHEN (SuporteTecnico = Sim) THEN 1 ELSE 0 END AS SuporteTecnico'>,\n",
              " Column<'CASE WHEN (TVaCabo = Sim) THEN 1 ELSE 0 END AS TVaCabo'>,\n",
              " Column<'CASE WHEN (StreamingFilmes = Sim) THEN 1 ELSE 0 END AS StreamingFilmes'>,\n",
              " Column<'CASE WHEN (ContaCorreio = Sim) THEN 1 ELSE 0 END AS ContaCorreio'>]"
            ]
          },
          "execution_count": 17,
          "metadata": {},
          "output_type": "execute_result"
        }
      ],
      "source": [
        "todasColunas\n",
        "# as primeiras colunas são as que não tiveram transformações"
      ]
    },
    {
      "cell_type": "code",
      "execution_count": null,
      "metadata": {
        "colab": {
          "base_uri": "https://localhost:8080/"
        },
        "id": "lhAyVrcFmKYT",
        "outputId": "b8428285-eb49-416c-9fd6-351228c0ea81"
      },
      "outputs": [
        {
          "name": "stdout",
          "output_type": "stream",
          "text": [
            "+---+----------+---------------+-----------+------------+----------------+-------------+-----+-------+-----------+------------+------------------------+---------------+------------+-----------------+--------------+-------+---------------+------------+\n",
            "| id|Mais65anos|MesesDeContrato|   Internet|TipoContrato| MetodoPagamento|MesesCobrados|Churn|Conjuge|Dependentes|TelefoneFixo|MaisDeUmaLinhaTelefonica|SegurancaOnline|BackupOnline|SeguroDispositivo|SuporteTecnico|TVaCabo|StreamingFilmes|ContaCorreio|\n",
            "+---+----------+---------------+-----------+------------+----------------+-------------+-----+-------+-----------+------------+------------------------+---------------+------------+-----------------+--------------+-------+---------------+------------+\n",
            "|  0|         0|              1|        DSL| Mensalmente|BoletoEletronico|        29.85|    0|      1|          0|           0|                       0|              0|           1|                0|             0|      0|              0|           1|\n",
            "|  1|         0|             34|        DSL|       UmAno|          Boleto|        56.95|    0|      0|          0|           1|                       0|              1|           0|                1|             0|      0|              0|           0|\n",
            "|  2|         0|              2|        DSL| Mensalmente|          Boleto|        53.85|    1|      0|          0|           1|                       0|              1|           1|                0|             0|      0|              0|           1|\n",
            "|  3|         0|             45|        DSL|       UmAno|   DebitoEmConta|         42.3|    0|      0|          0|           0|                       0|              1|           0|                1|             1|      0|              0|           0|\n",
            "|  4|         0|              2|FibraOptica| Mensalmente|BoletoEletronico|         70.7|    1|      0|          0|           1|                       0|              0|           0|                0|             0|      0|              0|           1|\n",
            "|  5|         0|              8|FibraOptica| Mensalmente|BoletoEletronico|        99.65|    1|      0|          0|           1|                       1|              0|           0|                1|             0|      1|              1|           1|\n",
            "|  6|         0|             22|FibraOptica| Mensalmente|   CartaoCredito|         89.1|    0|      0|          1|           1|                       1|              0|           1|                0|             0|      1|              0|           1|\n",
            "|  7|         0|             10|        DSL| Mensalmente|          Boleto|        29.75|    0|      0|          0|           0|                       0|              1|           0|                0|             0|      0|              0|           0|\n",
            "|  8|         0|             28|FibraOptica| Mensalmente|BoletoEletronico|        104.8|    1|      1|          0|           1|                       1|              0|           0|                1|             1|      1|              1|           1|\n",
            "|  9|         0|             62|        DSL|       UmAno|   DebitoEmConta|        56.15|    0|      0|          1|           1|                       0|              1|           1|                0|             0|      0|              0|           0|\n",
            "+---+----------+---------------+-----------+------------+----------------+-------------+-----+-------+-----------+------------+------------------------+---------------+------------+-----------------+--------------+-------+---------------+------------+\n",
            "only showing top 10 rows\n",
            "\n"
          ]
        }
      ],
      "source": [
        "# as regras de transformação já existem e agora precisam ser aplicadas > .select()\n",
        "dados.select(todasColunas).show(10)"
      ]
    },
    {
      "cell_type": "code",
      "execution_count": 11,
      "metadata": {
        "id": "Mhp-2cRy70mI"
      },
      "outputs": [],
      "source": [
        "dataset = dados.select(todasColunas)"
      ]
    },
    {
      "cell_type": "code",
      "execution_count": null,
      "metadata": {
        "colab": {
          "base_uri": "https://localhost:8080/"
        },
        "id": "DS90fb0jnD4i",
        "outputId": "7b82d358-13cf-48f1-8b0e-16b9698138d1"
      },
      "outputs": [
        {
          "name": "stdout",
          "output_type": "stream",
          "text": [
            "root\n",
            " |-- id: integer (nullable = true)\n",
            " |-- Mais65anos: integer (nullable = true)\n",
            " |-- MesesDeContrato: integer (nullable = true)\n",
            " |-- Internet: string (nullable = true)\n",
            " |-- TipoContrato: string (nullable = true)\n",
            " |-- MetodoPagamento: string (nullable = true)\n",
            " |-- MesesCobrados: double (nullable = true)\n",
            " |-- Churn: integer (nullable = false)\n",
            " |-- Conjuge: integer (nullable = false)\n",
            " |-- Dependentes: integer (nullable = false)\n",
            " |-- TelefoneFixo: integer (nullable = false)\n",
            " |-- MaisDeUmaLinhaTelefonica: integer (nullable = false)\n",
            " |-- SegurancaOnline: integer (nullable = false)\n",
            " |-- BackupOnline: integer (nullable = false)\n",
            " |-- SeguroDispositivo: integer (nullable = false)\n",
            " |-- SuporteTecnico: integer (nullable = false)\n",
            " |-- TVaCabo: integer (nullable = false)\n",
            " |-- StreamingFilmes: integer (nullable = false)\n",
            " |-- ContaCorreio: integer (nullable = false)\n",
            "\n"
          ]
        }
      ],
      "source": [
        "dataset.printSchema()"
      ]
    },
    {
      "cell_type": "markdown",
      "metadata": {
        "id": "oJtKNnZanLIf"
      },
      "source": [
        "> Ainda existem colunas como string, no entanto elas apresentam valores não binários. Assim, um novo tratamento dos dados precisam ser executados."
      ]
    },
    {
      "cell_type": "code",
      "execution_count": null,
      "metadata": {
        "colab": {
          "base_uri": "https://localhost:8080/"
        },
        "id": "TEpK0IXUs2BF",
        "outputId": "55181642-e531-4427-e363-d9d1dfc091ad"
      },
      "outputs": [
        {
          "name": "stdout",
          "output_type": "stream",
          "text": [
            "+---+----------+---------------+-----------+------------+----------------+-------------+-----+-------+-----------+------------+------------------------+---------------+------------+-----------------+--------------+-------+---------------+------------+\n",
            "| id|Mais65anos|MesesDeContrato|   Internet|TipoContrato| MetodoPagamento|MesesCobrados|Churn|Conjuge|Dependentes|TelefoneFixo|MaisDeUmaLinhaTelefonica|SegurancaOnline|BackupOnline|SeguroDispositivo|SuporteTecnico|TVaCabo|StreamingFilmes|ContaCorreio|\n",
            "+---+----------+---------------+-----------+------------+----------------+-------------+-----+-------+-----------+------------+------------------------+---------------+------------+-----------------+--------------+-------+---------------+------------+\n",
            "|  0|         0|              1|        DSL| Mensalmente|BoletoEletronico|        29.85|    0|      1|          0|           0|                       0|              0|           1|                0|             0|      0|              0|           1|\n",
            "|  1|         0|             34|        DSL|       UmAno|          Boleto|        56.95|    0|      0|          0|           1|                       0|              1|           0|                1|             0|      0|              0|           0|\n",
            "|  2|         0|              2|        DSL| Mensalmente|          Boleto|        53.85|    1|      0|          0|           1|                       0|              1|           1|                0|             0|      0|              0|           1|\n",
            "|  3|         0|             45|        DSL|       UmAno|   DebitoEmConta|         42.3|    0|      0|          0|           0|                       0|              1|           0|                1|             1|      0|              0|           0|\n",
            "|  4|         0|              2|FibraOptica| Mensalmente|BoletoEletronico|         70.7|    1|      0|          0|           1|                       0|              0|           0|                0|             0|      0|              0|           1|\n",
            "|  5|         0|              8|FibraOptica| Mensalmente|BoletoEletronico|        99.65|    1|      0|          0|           1|                       1|              0|           0|                1|             0|      1|              1|           1|\n",
            "|  6|         0|             22|FibraOptica| Mensalmente|   CartaoCredito|         89.1|    0|      0|          1|           1|                       1|              0|           1|                0|             0|      1|              0|           1|\n",
            "|  7|         0|             10|        DSL| Mensalmente|          Boleto|        29.75|    0|      0|          0|           0|                       0|              1|           0|                0|             0|      0|              0|           0|\n",
            "|  8|         0|             28|FibraOptica| Mensalmente|BoletoEletronico|        104.8|    1|      1|          0|           1|                       1|              0|           0|                1|             1|      1|              1|           1|\n",
            "|  9|         0|             62|        DSL|       UmAno|   DebitoEmConta|        56.15|    0|      0|          1|           1|                       0|              1|           1|                0|             0|      0|              0|           0|\n",
            "+---+----------+---------------+-----------+------------+----------------+-------------+-----+-------+-----------+------------+------------------------+---------------+------------+-----------------+--------------+-------+---------------+------------+\n",
            "only showing top 10 rows\n",
            "\n"
          ]
        }
      ],
      "source": [
        "dataset.show(10)"
      ]
    },
    {
      "cell_type": "markdown",
      "metadata": {
        "id": "FLn2a7ym7MLp"
      },
      "source": [
        "## **3. Criando *Dummies***\n",
        "\n",
        "Analisando as colunas que ainda são strings:"
      ]
    },
    {
      "cell_type": "code",
      "execution_count": 12,
      "metadata": {
        "colab": {
          "base_uri": "https://localhost:8080/"
        },
        "id": "DFJx294nMCit",
        "outputId": "3d1c92a9-38e9-4a5f-9715-acec56cfec1f"
      },
      "outputs": [
        {
          "name": "stdout",
          "output_type": "stream",
          "text": [
            "+-----------+------------+----------------+\n",
            "|   Internet|TipoContrato| MetodoPagamento|\n",
            "+-----------+------------+----------------+\n",
            "|        DSL| Mensalmente|BoletoEletronico|\n",
            "|        DSL|       UmAno|          Boleto|\n",
            "|        DSL| Mensalmente|          Boleto|\n",
            "|        DSL|       UmAno|   DebitoEmConta|\n",
            "|FibraOptica| Mensalmente|BoletoEletronico|\n",
            "|FibraOptica| Mensalmente|BoletoEletronico|\n",
            "|FibraOptica| Mensalmente|   CartaoCredito|\n",
            "|        DSL| Mensalmente|          Boleto|\n",
            "|FibraOptica| Mensalmente|BoletoEletronico|\n",
            "|        DSL|       UmAno|   DebitoEmConta|\n",
            "|        DSL| Mensalmente|          Boleto|\n",
            "|        Nao|    DoisAnos|   CartaoCredito|\n",
            "|FibraOptica|       UmAno|   CartaoCredito|\n",
            "|FibraOptica| Mensalmente|   DebitoEmConta|\n",
            "|FibraOptica| Mensalmente|BoletoEletronico|\n",
            "+-----------+------------+----------------+\n",
            "only showing top 15 rows\n",
            "\n"
          ]
        }
      ],
      "source": [
        "dataset.select(['Internet', 'TipoContrato', 'MetodoPagamento']).show(15)"
      ]
    },
    {
      "cell_type": "markdown",
      "metadata": {
        "id": "zK3Cm7ZSn7pR"
      },
      "source": [
        "**Utilização da técnica Dummies**:\n",
        "\n",
        "Por exemplo, no 'MetodoPagamento' existem diferentes métodos de pagamentos.\n",
        "\n",
        "Para transformar esses dados se constrói uma coluna que represente cada uma das opções de valores para cada categoria. Isso quer dizer que para a coluna internet terá uma coluna que representa DSL, outra FibraOptica e outra referente ao Nao. Os valores dessas colunas são representadas por 0 e 1 (se o cliente tem ou não)."
      ]
    },
    {
      "cell_type": "code",
      "execution_count": 13,
      "metadata": {
        "colab": {
          "base_uri": "https://localhost:8080/"
        },
        "id": "jHb0pPZXPrYa",
        "outputId": "5cde453f-ca86-4c9d-bc68-a557302c17a4"
      },
      "outputs": [
        {
          "name": "stdout",
          "output_type": "stream",
          "text": [
            "+-----+------+----------------+-------------+-------------+\n",
            "|   id|Boleto|BoletoEletronico|CartaoCredito|DebitoEmConta|\n",
            "+-----+------+----------------+-------------+-------------+\n",
            "| 3997|     0|               0|            1|            0|\n",
            "| 7554|     0|               1|            0|            0|\n",
            "| 6336|     0|               1|            0|            0|\n",
            "| 6357|     0|               1|            0|            0|\n",
            "| 9427|     0|               0|            1|            0|\n",
            "| 2659|     0|               0|            1|            0|\n",
            "|  471|     0|               1|            0|            0|\n",
            "| 4935|     0|               0|            1|            0|\n",
            "| 4818|     0|               0|            1|            0|\n",
            "| 1342|     1|               0|            0|            0|\n",
            "| 1959|     0|               1|            0|            0|\n",
            "| 9376|     0|               0|            1|            0|\n",
            "| 2366|     0|               1|            0|            0|\n",
            "| 1580|     0|               0|            0|            1|\n",
            "| 9900|     0|               1|            0|            0|\n",
            "| 9852|     1|               0|            0|            0|\n",
            "| 3918|     0|               1|            0|            0|\n",
            "| 7880|     0|               1|            0|            0|\n",
            "| 1238|     0|               1|            0|            0|\n",
            "|10206|     0|               1|            0|            0|\n",
            "+-----+------+----------------+-------------+-------------+\n",
            "only showing top 20 rows\n",
            "\n"
          ]
        }
      ],
      "source": [
        "# step 1: id são únicos e a ideia de usar ele aqui é para utilizar .pivot()\n",
        "# .pivot() espera receber o nome da coluna de interesse\n",
        "# .pivot pega cada uma das categorias da coluna target e transforma em colunas\n",
        "# step 2: como preencher as rows dessas colunas novas?\n",
        "# .agg() e define como será feito esse preenchimento\n",
        "# f.lit(1) vai criar uma coluna de valor 1 para as categorias que o cliente possui\n",
        "# se o cliente não possui a categoria ele coloca NaN\n",
        "# fora do .agg() .na vai selecionar apenas os dados que são NaN\n",
        "# .fill(0) coloca 0 no lugar do NaN\n",
        "# .show() para verificar o resultado\n",
        "dataset.groupBy('id').pivot('MetodoPagamento').agg(f.lit(1)).na.fill(0).show()"
      ]
    },
    {
      "cell_type": "code",
      "execution_count": 14,
      "metadata": {
        "id": "B1FK7TOmRSYF"
      },
      "outputs": [],
      "source": [
        "Internet = dataset.groupBy('id').pivot('Internet').agg(f.lit(1)).na.fill(0)\n",
        "TipoContrato = dataset.groupBy('id').pivot('TipoContrato').agg(f.lit(1)).na.fill(0)\n",
        "MetodoPagamento = dataset.groupBy('id').pivot('MetodoPagamento').agg(f.lit(1)).na.fill(0)"
      ]
    },
    {
      "cell_type": "markdown",
      "metadata": {
        "id": "6In9owPcqQPD"
      },
      "source": [
        "> Agora as colunas estão criadas e representam as informações de uma maneira diferente (dummies). O próximo passo é unir essa informação com o dataset."
      ]
    },
    {
      "cell_type": "code",
      "execution_count": null,
      "metadata": {
        "colab": {
          "base_uri": "https://localhost:8080/"
        },
        "id": "mP-PmXt6ISJw",
        "outputId": "1fa92fb0-cf4d-4a32-f76a-81af92778d8d"
      },
      "outputs": [
        {
          "name": "stdout",
          "output_type": "stream",
          "text": [
            "+----+----------+---------------+-----------+------------+----------------+-----------------+-----+-------+-----------+------------+------------------------+---------------+------------+-----------------+--------------+-------+---------------+------------+---+-----------+---+--------+-----------+-----+------+----------------+-------------+-------------+\n",
            "|  id|Mais65anos|MesesDeContrato|   Internet|TipoContrato| MetodoPagamento|    MesesCobrados|Churn|Conjuge|Dependentes|TelefoneFixo|MaisDeUmaLinhaTelefonica|SegurancaOnline|BackupOnline|SeguroDispositivo|SuporteTecnico|TVaCabo|StreamingFilmes|ContaCorreio|DSL|FibraOptica|Nao|DoisAnos|Mensalmente|UmAno|Boleto|BoletoEletronico|CartaoCredito|DebitoEmConta|\n",
            "+----+----------+---------------+-----------+------------+----------------+-----------------+-----+-------+-----------+------------+------------------------+---------------+------------+-----------------+--------------+-------+---------------+------------+---+-----------+---+--------+-----------+-----+------+----------------+-------------+-------------+\n",
            "|7982|         0|              1|        DSL| Mensalmente|BoletoEletronico|45.30540797610398|    1|      0|          0|           0|                       0|              0|           0|                0|             0|      1|              1|           1|  1|          0|  0|       0|          1|    0|     0|               1|            0|            0|\n",
            "|9465|         0|             60|FibraOptica| Mensalmente|BoletoEletronico|103.6142230120257|    1|      1|          0|           1|                       1|              0|           1|                1|             0|      1|              1|           1|  0|          1|  0|       0|          1|    0|     0|               1|            0|            0|\n",
            "|2122|         0|             12|        DSL|       UmAno|          Boleto|            75.85|    0|      0|          0|           1|                       1|              0|           0|                0|             1|      1|              1|           1|  1|          0|  0|       0|          0|    1|     1|               0|            0|            0|\n",
            "|3997|         0|             69|        DSL|    DoisAnos|   CartaoCredito|            61.45|    0|      1|          0|           1|                       0|              0|           1|                0|             0|      0|              1|           1|  1|          0|  0|       1|          0|    0|     0|               0|            1|            0|\n",
            "|6654|         0|              7|FibraOptica| Mensalmente|BoletoEletronico|             86.5|    1|      1|          0|           1|                       1|              0|           0|                0|             0|      1|              0|           1|  0|          1|  0|       0|          1|    0|     0|               1|            0|            0|\n",
            "+----+----------+---------------+-----------+------------+----------------+-----------------+-----+-------+-----------+------------+------------------------+---------------+------------+-----------------+--------------+-------+---------------+------------+---+-----------+---+--------+-----------+-----+------+----------------+-------------+-------------+\n",
            "only showing top 5 rows\n",
            "\n"
          ]
        }
      ],
      "source": [
        "dataset\\\n",
        "    .join(Internet, 'id', how='inner')\\\n",
        "    .join(TipoContrato, 'id', how='inner')\\\n",
        "    .join(MetodoPagamento, 'id', how='inner')\\\n",
        "    .show(5)"
      ]
    },
    {
      "cell_type": "markdown",
      "metadata": {
        "id": "mGqxdlpuIkgx"
      },
      "source": [
        "> **Necessário renomar as colunas adicionar para que exibam melhor as informações que elas trazem**."
      ]
    },
    {
      "cell_type": "code",
      "execution_count": null,
      "metadata": {
        "colab": {
          "base_uri": "https://localhost:8080/"
        },
        "id": "HVfjs5MBw5-a",
        "outputId": "1004ae05-b759-4596-ff15-4a670c5ab262"
      },
      "outputs": [
        {
          "name": "stdout",
          "output_type": "stream",
          "text": [
            "+----+----------+---------------+-----------------+-----+-------+-----------+------------+------------------------+---------------+------------+-----------------+--------------+-------+---------------+------------+------------+--------------------+------------+------------------------+------------------+---------------------+-----------------------------+-----------------------------+--------------------------------+----------------------+\n",
            "|  id|Mais65anos|MesesDeContrato|    MesesCobrados|Churn|Conjuge|Dependentes|TelefoneFixo|MaisDeUmaLinhaTelefonica|SegurancaOnline|BackupOnline|SeguroDispositivo|SuporteTecnico|TVaCabo|StreamingFilmes|ContaCorreio|Internet_DSL|Internet_FibraOptica|Internet_Nao|TipoContrato_Mensalmente|TipoContrato_UmAno|TipoContrato_DoisAnos|MetodoPagamento_DebitoEmConta|MetodoPagamento_CartaoCredito|MetodoPagamento_BoletoEletronico|MetodoPagamento_Boleto|\n",
            "+----+----------+---------------+-----------------+-----+-------+-----------+------------+------------------------+---------------+------------+-----------------+--------------+-------+---------------+------------+------------+--------------------+------------+------------------------+------------------+---------------------+-----------------------------+-----------------------------+--------------------------------+----------------------+\n",
            "|7982|         0|              1|45.30540797610398|    1|      0|          0|           0|                       0|              0|           0|                0|             0|      1|              1|           1|           1|                   0|           0|                       1|                 0|                    0|                            0|                            0|                               1|                     0|\n",
            "|9465|         0|             60|103.6142230120257|    1|      1|          0|           1|                       1|              0|           1|                1|             0|      1|              1|           1|           0|                   1|           0|                       1|                 0|                    0|                            0|                            0|                               1|                     0|\n",
            "|2122|         0|             12|            75.85|    0|      0|          0|           1|                       1|              0|           0|                0|             1|      1|              1|           1|           1|                   0|           0|                       0|                 1|                    0|                            0|                            0|                               0|                     1|\n",
            "|3997|         0|             69|            61.45|    0|      1|          0|           1|                       0|              0|           1|                0|             0|      0|              1|           1|           1|                   0|           0|                       0|                 0|                    1|                            0|                            1|                               0|                     0|\n",
            "|6654|         0|              7|             86.5|    1|      1|          0|           1|                       1|              0|           0|                0|             0|      1|              0|           1|           0|                   1|           0|                       1|                 0|                    0|                            0|                            0|                               1|                     0|\n",
            "|7880|         0|             14|85.03742670311915|    1|      0|          0|           1|                       1|              0|           0|                0|             0|      0|              1|           1|           0|                   1|           0|                       1|                 0|                    0|                            0|                            0|                               1|                     0|\n",
            "|4519|         0|             57|            109.4|    0|      1|          0|           1|                       1|              0|           1|                1|             1|      1|              1|           1|           0|                   1|           0|                       0|                 1|                    0|                            1|                            0|                               0|                     0|\n",
            "|6466|         0|             18|            74.15|    0|      0|          0|           1|                       1|              0|           0|                0|             0|      0|              0|           0|           0|                   1|           0|                       1|                 0|                    0|                            0|                            0|                               0|                     1|\n",
            "| 496|         0|             28|             60.9|    0|      1|          0|           1|                       0|              1|           1|                0|             1|      0|              0|           0|           1|                   0|           0|                       1|                 0|                    0|                            0|                            0|                               0|                     1|\n",
            "|7833|         0|             46| 80.8824189403559|    1|      1|          0|           1|                       0|              0|           0|                0|             0|      0|              1|           1|           0|                   1|           0|                       1|                 0|                    0|                            0|                            0|                               1|                     0|\n",
            "|1591|         0|             17|             21.1|    0|      0|          0|           1|                       0|              0|           0|                0|             0|      0|              0|           0|           0|                   0|           1|                       1|                 0|                    0|                            0|                            1|                               0|                     0|\n",
            "|2866|         0|             12|             84.6|    0|      0|          0|           1|                       0|              0|           1|                0|             0|      0|              1|           1|           0|                   1|           0|                       1|                 0|                    0|                            0|                            0|                               1|                     0|\n",
            "|8592|         0|              5|82.71735660557214|    1|      1|          0|           1|                       1|              0|           0|                0|             0|      1|              0|           1|           0|                   1|           0|                       1|                 0|                    0|                            0|                            0|                               1|                     0|\n",
            "|1829|         0|              8|            74.85|    0|      0|          0|           1|                       1|              0|           0|                0|             0|      0|              0|           1|           0|                   1|           0|                       1|                 0|                    0|                            0|                            0|                               1|                     0|\n",
            "| 463|         0|              7|             99.8|    1|      0|          0|           1|                       1|              0|           1|                0|             0|      1|              1|           1|           0|                   1|           0|                       1|                 0|                    0|                            0|                            0|                               1|                     0|\n",
            "|4900|         1|             37|             85.7|    1|      1|          0|           1|                       1|              0|           0|                0|             0|      1|              0|           1|           0|                   1|           0|                       1|                 0|                    0|                            0|                            0|                               1|                     0|\n",
            "|4818|         1|             64|             80.3|    0|      1|          0|           1|                       0|              1|           0|                1|             0|      0|              0|           0|           0|                   1|           0|                       0|                 1|                    0|                            0|                            1|                               0|                     0|\n",
            "|7554|         0|              1|50.74303124820026|    1|      0|          0|           1|                       0|              0|           1|                0|             0|      0|              0|           0|           1|                   0|           0|                       1|                 0|                    0|                            0|                            0|                               1|                     0|\n",
            "|1342|         0|              8|             20.0|    0|      0|          0|           1|                       0|              0|           0|                0|             0|      0|              0|           0|           0|                   0|           1|                       0|                 0|                    1|                            0|                            0|                               0|                     1|\n",
            "|5300|         0|              1|            80.05|    1|      1|          1|           1|                       0|              0|           0|                0|             0|      1|              0|           1|           0|                   1|           0|                       1|                 0|                    0|                            0|                            0|                               0|                     1|\n",
            "+----+----------+---------------+-----------------+-----+-------+-----------+------------+------------------------+---------------+------------+-----------------+--------------+-------+---------------+------------+------------+--------------------+------------+------------------------+------------------+---------------------+-----------------------------+-----------------------------+--------------------------------+----------------------+\n",
            "only showing top 20 rows\n",
            "\n"
          ]
        }
      ],
      "source": [
        "# dps de .join(), .select() todas as colunas criadas e cria um novo nome\n",
        "# .drop() das colunas originais\n",
        "dataset\\\n",
        "    .join(Internet, 'id', how='inner')\\\n",
        "    .join(TipoContrato, 'id', how='inner')\\\n",
        "    .join(MetodoPagamento, 'id', how='inner')\\\n",
        "    .select(\n",
        "        '*',\n",
        "        f.col('DSL').alias('Internet_DSL'),\n",
        "        f.col('FibraOptica').alias('Internet_FibraOptica'),\n",
        "        f.col('Nao').alias('Internet_Nao'),\n",
        "        f.col('Mensalmente').alias('TipoContrato_Mensalmente'),\n",
        "        f.col('UmAno').alias('TipoContrato_UmAno'),\n",
        "        f.col('DoisAnos').alias('TipoContrato_DoisAnos'),\n",
        "        f.col('DebitoEmConta').alias('MetodoPagamento_DebitoEmConta'),\n",
        "        f.col('CartaoCredito').alias('MetodoPagamento_CartaoCredito'),\n",
        "        f.col('BoletoEletronico').alias('MetodoPagamento_BoletoEletronico'),\n",
        "        f.col('Boleto').alias('MetodoPagamento_Boleto')\n",
        "    ).drop(\n",
        "        'Internet', 'TipoContrato', 'MetodoPagamento', 'DSL',\n",
        "        'FibraOptica', 'Nao', 'Mensalmente', 'UmAno', 'DoisAnos',\n",
        "        'DebitoEmConta', 'CartaoCredito', 'BoletoEletronico', 'Boleto'\n",
        "    ).show()"
      ]
    },
    {
      "cell_type": "code",
      "execution_count": 15,
      "metadata": {
        "id": "D58P834Tzd99"
      },
      "outputs": [],
      "source": [
        "# sobreescreve o dataset original\n",
        "dataset = dataset\\\n",
        "    .join(Internet, 'id', how='inner')\\\n",
        "    .join(TipoContrato, 'id', how='inner')\\\n",
        "    .join(MetodoPagamento, 'id', how='inner')\\\n",
        "    .select(\n",
        "        '*',\n",
        "        f.col('DSL').alias('Internet_DSL'),\n",
        "        f.col('FibraOptica').alias('Internet_FibraOptica'),\n",
        "        f.col('Nao').alias('Internet_Nao'),\n",
        "        f.col('Mensalmente').alias('TipoContrato_Mensalmente'),\n",
        "        f.col('UmAno').alias('TipoContrato_UmAno'),\n",
        "        f.col('DoisAnos').alias('TipoContrato_DoisAnos'),\n",
        "        f.col('DebitoEmConta').alias('MetodoPagamento_DebitoEmConta'),\n",
        "        f.col('CartaoCredito').alias('MetodoPagamento_CartaoCredito'),\n",
        "        f.col('BoletoEletronico').alias('MetodoPagamento_BoletoEletronico'),\n",
        "        f.col('Boleto').alias('MetodoPagamento_Boleto')\n",
        "    ).drop(\n",
        "        'Internet', 'TipoContrato', 'MetodoPagamento', 'DSL',\n",
        "        'FibraOptica', 'Nao', 'Mensalmente', 'UmAno', 'DoisAnos',\n",
        "        'DebitoEmConta', 'CartaoCredito', 'BoletoEletronico', 'Boleto'\n",
        "    )"
      ]
    },
    {
      "cell_type": "code",
      "execution_count": null,
      "metadata": {
        "colab": {
          "base_uri": "https://localhost:8080/"
        },
        "id": "Z5cSmXRCvmEC",
        "outputId": "0628b483-04a3-4063-d344-80436bd2cf26"
      },
      "outputs": [
        {
          "name": "stdout",
          "output_type": "stream",
          "text": [
            "+----+----------+---------------+-----------------+-----+-------+-----------+------------+------------------------+---------------+------------+-----------------+--------------+-------+---------------+------------+------------+--------------------+------------+------------------------+------------------+---------------------+-----------------------------+-----------------------------+--------------------------------+----------------------+\n",
            "|  id|Mais65anos|MesesDeContrato|    MesesCobrados|Churn|Conjuge|Dependentes|TelefoneFixo|MaisDeUmaLinhaTelefonica|SegurancaOnline|BackupOnline|SeguroDispositivo|SuporteTecnico|TVaCabo|StreamingFilmes|ContaCorreio|Internet_DSL|Internet_FibraOptica|Internet_Nao|TipoContrato_Mensalmente|TipoContrato_UmAno|TipoContrato_DoisAnos|MetodoPagamento_DebitoEmConta|MetodoPagamento_CartaoCredito|MetodoPagamento_BoletoEletronico|MetodoPagamento_Boleto|\n",
            "+----+----------+---------------+-----------------+-----+-------+-----------+------------+------------------------+---------------+------------+-----------------+--------------+-------+---------------+------------+------------+--------------------+------------+------------------------+------------------+---------------------+-----------------------------+-----------------------------+--------------------------------+----------------------+\n",
            "|7982|         0|              1|45.30540797610398|    1|      0|          0|           0|                       0|              0|           0|                0|             0|      1|              1|           1|           1|                   0|           0|                       1|                 0|                    0|                            0|                            0|                               1|                     0|\n",
            "|9465|         0|             60|103.6142230120257|    1|      1|          0|           1|                       1|              0|           1|                1|             0|      1|              1|           1|           0|                   1|           0|                       1|                 0|                    0|                            0|                            0|                               1|                     0|\n",
            "|2122|         0|             12|            75.85|    0|      0|          0|           1|                       1|              0|           0|                0|             1|      1|              1|           1|           1|                   0|           0|                       0|                 1|                    0|                            0|                            0|                               0|                     1|\n",
            "|3997|         0|             69|            61.45|    0|      1|          0|           1|                       0|              0|           1|                0|             0|      0|              1|           1|           1|                   0|           0|                       0|                 0|                    1|                            0|                            1|                               0|                     0|\n",
            "|6654|         0|              7|             86.5|    1|      1|          0|           1|                       1|              0|           0|                0|             0|      1|              0|           1|           0|                   1|           0|                       1|                 0|                    0|                            0|                            0|                               1|                     0|\n",
            "+----+----------+---------------+-----------------+-----+-------+-----------+------------+------------------------+---------------+------------+-----------------+--------------+-------+---------------+------------+------------+--------------------+------------+------------------------+------------------+---------------------+-----------------------------+-----------------------------+--------------------------------+----------------------+\n",
            "only showing top 5 rows\n",
            "\n"
          ]
        }
      ],
      "source": [
        "# checa se tá certo\n",
        "dataset.show(5)"
      ]
    },
    {
      "cell_type": "code",
      "execution_count": null,
      "metadata": {
        "colab": {
          "base_uri": "https://localhost:8080/"
        },
        "id": "zFSSoSTYKY10",
        "outputId": "5c41ee97-49ed-4485-f591-990d3ce9795c"
      },
      "outputs": [
        {
          "name": "stdout",
          "output_type": "stream",
          "text": [
            "root\n",
            " |-- id: integer (nullable = true)\n",
            " |-- Mais65anos: integer (nullable = true)\n",
            " |-- MesesDeContrato: integer (nullable = true)\n",
            " |-- MesesCobrados: double (nullable = true)\n",
            " |-- Churn: integer (nullable = false)\n",
            " |-- Conjuge: integer (nullable = false)\n",
            " |-- Dependentes: integer (nullable = false)\n",
            " |-- TelefoneFixo: integer (nullable = false)\n",
            " |-- MaisDeUmaLinhaTelefonica: integer (nullable = false)\n",
            " |-- SegurancaOnline: integer (nullable = false)\n",
            " |-- BackupOnline: integer (nullable = false)\n",
            " |-- SeguroDispositivo: integer (nullable = false)\n",
            " |-- SuporteTecnico: integer (nullable = false)\n",
            " |-- TVaCabo: integer (nullable = false)\n",
            " |-- StreamingFilmes: integer (nullable = false)\n",
            " |-- ContaCorreio: integer (nullable = false)\n",
            " |-- Internet_DSL: integer (nullable = true)\n",
            " |-- Internet_FibraOptica: integer (nullable = true)\n",
            " |-- Internet_Nao: integer (nullable = true)\n",
            " |-- TipoContrato_Mensalmente: integer (nullable = true)\n",
            " |-- TipoContrato_UmAno: integer (nullable = true)\n",
            " |-- TipoContrato_DoisAnos: integer (nullable = true)\n",
            " |-- MetodoPagamento_DebitoEmConta: integer (nullable = true)\n",
            " |-- MetodoPagamento_CartaoCredito: integer (nullable = true)\n",
            " |-- MetodoPagamento_BoletoEletronico: integer (nullable = true)\n",
            " |-- MetodoPagamento_Boleto: integer (nullable = true)\n",
            "\n"
          ]
        }
      ],
      "source": [
        "# verifica se as variáveis estão no formato necessário para entrar em algum modelo\n",
        "dataset.printSchema()"
      ]
    },
    {
      "cell_type": "markdown",
      "metadata": {
        "id": "O9pd37j7JsKA"
      },
      "source": [
        "### **Aplicar o melhor tratamento para cada tipo de dado:**\n",
        "\n",
        "**Dados Categóricos**:\n",
        "\n",
        "Através da identificação do dado se determinar quais são os melhores tratamentos de dados para serem utilizados em modelos de machine learning.\n",
        "\n",
        "Como diferenciar dados categóricos binários e não binários:\n",
        "\n",
        "- **Categóricos binários** são dados que só tem duas variações de valores e podem ser representados por outros valores que não o um e o zero. Por exemplo: em questionários, esses valores são registrados como _Sim_ e _Não_ ou _Verdadeiro_ e _Falso_.\n",
        "- **Categóricos não binários**, também chamados de variáveis politômicas, são os que têm mais de dois valores possíveis. Nesses tipos de dados ainda temos mais uma ramificação categórica: **ordinais** e **nominais**.\n",
        "  - **Ordinais**: quando os dados possuem uma ordem entre eles. Por exemplo, o grau de instrução de uma pessoa tem uma ordem: primeiro o ensino fundamental, depois o ensino médio e, finalmente, o ensino superior.\n",
        "  - **Nominais**: quando os valores não têm uma ordem, como: estado civil (solteiro, casado, separado, divorciado ou viúvo).\n",
        "\n",
        "A identificação deste tipo é muito importante para determinar como será feita a transformação do dados para números. Para dados categóricos nominais, atribuir valores para as categorias não estaria correto, já que, dessa maneira, estaria aplicando uma ordem e um valor para categorias que originalmente não tem.\n",
        "\n",
        "No exemplo do estado civil, se atribuirmos os valores de 1, 2, 3, 4 e 5 para solteiro, casado, separado, divorciado e viúvo, respectivamente, podemos afetar o entendimento do modelo, pois podemos dizer que viúvo é maior que solteiro, já que 5 é maior que 1, e essa não é uma informação correta. Por isso, quando identificamos esse tipo de dado, o procedimento mais usado será criar dummies para essa coluna, em que cada valor de categoria terá sua própria coluna de valores binários."
      ]
    },
    {
      "cell_type": "markdown",
      "metadata": {
        "id": "Af705sdOSe12"
      },
      "source": [
        "# **Parte 2 - Projeto: Churn**\n",
        "\n",
        "**Descrição e objetivo do projeto**: a partir de uma base de dados com características de diversos clientes e dos serviços contratados por esse cliente será criado um modelo que fará a classificação se um cliente que vai cancelar o serviço e o que não, se tornando um churn para a empresa.\n",
        "\n",
        "**MLlib**: módulo do Spark que possui diferentes algoritmos de machine learning."
      ]
    },
    {
      "cell_type": "markdown",
      "metadata": {
        "id": "ogq40VlBTlM1"
      },
      "source": [
        "# Testando: **Regressão Logística**\n",
        "\n",
        "O algoritmo de regressão logística faz parte dos algoritmos de aprendizado de máquina supervisionado e é utilizado para problemas nos quais a variável resposta é categórica, podendo ser do tipo binomial (apenas dois níveis **e é o caso desse projeto**) ou multinomial (três ou mais níveis).\n",
        "\n",
        "Ela parece com a regressão linear, pois o algoritmo vai criar uma reta que se \"ajusta\" aos dados e consiga representar os dados de treino.\n",
        "\n",
        "A diferença é que, depois que criar essa reta e ajustar aos valores de treino, aplica-se a Sigmoide que vai transformar os valores em valores entre um intervalo de 0 e 1. A partir dessa transformação, é possível separar os dados em duas classes, que no caso, é se a pessoa cancelou o serviço ou não.\n",
        "\n",
        "A **sigmoide vai dar uma probabilidade de ser de determinada classe ou outra**; existe um valor no meio que vai separar muito bem, normalmente utilizando o valor 0.5. Então, quando atinge um valor 0.5, consider que é da classe positiva, ou seja, da primeira classe. E abaixo desse valor, considera que é da classe negativa, ou seja, a de quem cancelou o serviço, por exemplo."
      ]
    },
    {
      "cell_type": "markdown",
      "metadata": {
        "id": "1htatWDNVXJL"
      },
      "source": [
        "## **Preparação dos Dados** - parte 2"
      ]
    },
    {
      "cell_type": "code",
      "execution_count": null,
      "metadata": {
        "colab": {
          "base_uri": "https://localhost:8080/"
        },
        "id": "bUysfg_BQ4K9",
        "outputId": "79e0cd47-a68e-41de-b6fd-4832ae5aae70"
      },
      "outputs": [
        {
          "name": "stdout",
          "output_type": "stream",
          "text": [
            "+----+----------+---------------+-----------------+-----+-------+-----------+------------+------------------------+---------------+------------+-----------------+--------------+-------+---------------+------------+------------+--------------------+------------+------------------------+------------------+---------------------+-----------------------------+-----------------------------+--------------------------------+----------------------+\n",
            "|  id|Mais65anos|MesesDeContrato|    MesesCobrados|Churn|Conjuge|Dependentes|TelefoneFixo|MaisDeUmaLinhaTelefonica|SegurancaOnline|BackupOnline|SeguroDispositivo|SuporteTecnico|TVaCabo|StreamingFilmes|ContaCorreio|Internet_DSL|Internet_FibraOptica|Internet_Nao|TipoContrato_Mensalmente|TipoContrato_UmAno|TipoContrato_DoisAnos|MetodoPagamento_DebitoEmConta|MetodoPagamento_CartaoCredito|MetodoPagamento_BoletoEletronico|MetodoPagamento_Boleto|\n",
            "+----+----------+---------------+-----------------+-----+-------+-----------+------------+------------------------+---------------+------------+-----------------+--------------+-------+---------------+------------+------------+--------------------+------------+------------------------+------------------+---------------------+-----------------------------+-----------------------------+--------------------------------+----------------------+\n",
            "|7982|         0|              1|45.30540797610398|    1|      0|          0|           0|                       0|              0|           0|                0|             0|      1|              1|           1|           1|                   0|           0|                       1|                 0|                    0|                            0|                            0|                               1|                     0|\n",
            "|9465|         0|             60|103.6142230120257|    1|      1|          0|           1|                       1|              0|           1|                1|             0|      1|              1|           1|           0|                   1|           0|                       1|                 0|                    0|                            0|                            0|                               1|                     0|\n",
            "|2122|         0|             12|            75.85|    0|      0|          0|           1|                       1|              0|           0|                0|             1|      1|              1|           1|           1|                   0|           0|                       0|                 1|                    0|                            0|                            0|                               0|                     1|\n",
            "|3997|         0|             69|            61.45|    0|      1|          0|           1|                       0|              0|           1|                0|             0|      0|              1|           1|           1|                   0|           0|                       0|                 0|                    1|                            0|                            1|                               0|                     0|\n",
            "|6654|         0|              7|             86.5|    1|      1|          0|           1|                       1|              0|           0|                0|             0|      1|              0|           1|           0|                   1|           0|                       1|                 0|                    0|                            0|                            0|                               1|                     0|\n",
            "+----+----------+---------------+-----------------+-----+-------+-----------+------------+------------------------+---------------+------------+-----------------+--------------+-------+---------------+------------+------------+--------------------+------------+------------------------+------------------+---------------------+-----------------------------+-----------------------------+--------------------------------+----------------------+\n",
            "only showing top 5 rows\n",
            "\n"
          ]
        }
      ],
      "source": [
        "dataset.show(5)"
      ]
    },
    {
      "cell_type": "markdown",
      "metadata": {
        "id": "trJxNDQoVpGt"
      },
      "source": [
        " Embora os dados sejam numéricos, o Spark precisa de um tipo de dado mais primitivo para trabalhar, então é necessário fazer uma **conversão desse DataFrame para diversos vetores que vão representar os dados**."
      ]
    },
    {
      "cell_type": "code",
      "execution_count": 16,
      "metadata": {
        "id": "8xf5lpxmVe3i"
      },
      "outputs": [],
      "source": [
        "from pyspark.ml.feature import VectorAssembler"
      ]
    },
    {
      "cell_type": "code",
      "execution_count": 17,
      "metadata": {
        "id": "7_VpCI6NV2n6"
      },
      "outputs": [],
      "source": [
        "# Antes de usar o VectorAssembler, é preciso mudar o nome da coluna target do “Churn” pelo nome padrão esperado pelo módulo que é 'label'\n",
        "dataset = dataset.withColumnRenamed('Churn', 'label') # sobreescreve o dataset"
      ]
    },
    {
      "cell_type": "markdown",
      "metadata": {
        "id": "6UyrkkhGWPW5"
      },
      "source": [
        "O próximo passo é obter o nome das features. Então todas as features/características que representam o problema são os dados de cliente e é preciso uma variável com uma lista contendo o nome de todas as colunas que forem features."
      ]
    },
    {
      "cell_type": "code",
      "execution_count": 18,
      "metadata": {
        "id": "Kq8i2aUGWKBG"
      },
      "outputs": [],
      "source": [
        "X = dataset.columns"
      ]
    },
    {
      "cell_type": "code",
      "execution_count": 19,
      "metadata": {
        "colab": {
          "base_uri": "https://localhost:8080/"
        },
        "id": "fn8eBGxOWKDt",
        "outputId": "0e0c4192-8659-42dc-8953-48dccbefd0fa"
      },
      "outputs": [
        {
          "data": {
            "text/plain": [
              "['Mais65anos',\n",
              " 'MesesDeContrato',\n",
              " 'MesesCobrados',\n",
              " 'Conjuge',\n",
              " 'Dependentes',\n",
              " 'TelefoneFixo',\n",
              " 'MaisDeUmaLinhaTelefonica',\n",
              " 'SegurancaOnline',\n",
              " 'BackupOnline',\n",
              " 'SeguroDispositivo',\n",
              " 'SuporteTecnico',\n",
              " 'TVaCabo',\n",
              " 'StreamingFilmes',\n",
              " 'ContaCorreio',\n",
              " 'Internet_DSL',\n",
              " 'Internet_FibraOptica',\n",
              " 'Internet_Nao',\n",
              " 'TipoContrato_Mensalmente',\n",
              " 'TipoContrato_UmAno',\n",
              " 'TipoContrato_DoisAnos',\n",
              " 'MetodoPagamento_DebitoEmConta',\n",
              " 'MetodoPagamento_CartaoCredito',\n",
              " 'MetodoPagamento_BoletoEletronico',\n",
              " 'MetodoPagamento_Boleto']"
            ]
          },
          "execution_count": 19,
          "metadata": {},
          "output_type": "execute_result"
        }
      ],
      "source": [
        "# Remove a coluna 'label' e 'id' da lista com o nome das features\n",
        "X = dataset.columns\n",
        "X.remove('label') # não pode estar nas features, pois tem caracteristica que identifica\n",
        "X.remove('id') # não agrega no modelo\n",
        "X"
      ]
    },
    {
      "cell_type": "code",
      "execution_count": 20,
      "metadata": {
        "id": "BPw0WePrWt2q"
      },
      "outputs": [],
      "source": [
        "# dois argumentos: 1- dados de entrada do modelo que está na variável X e 2- nome da saída de dados do modelo (será um vetor único)\n",
        "assembler = VectorAssembler(inputCols=X, outputCol='features')"
      ]
    },
    {
      "cell_type": "code",
      "execution_count": 21,
      "metadata": {
        "id": "Lv8k1a3VWt5M"
      },
      "outputs": [],
      "source": [
        "# .transform() para fazer a transformação dos dados\n",
        "# .select() e seleciona as colunas de interesse > colunas das features e o label (target)\n",
        "dataset_prep = assembler.transform(dataset).select('features', 'label')"
      ]
    },
    {
      "cell_type": "code",
      "execution_count": null,
      "metadata": {
        "colab": {
          "base_uri": "https://localhost:8080/"
        },
        "id": "fJP_4OfoXJ-A",
        "outputId": "68b7ce87-cb2a-45de-89ac-05c4c82e094b"
      },
      "outputs": [
        {
          "name": "stdout",
          "output_type": "stream",
          "text": [
            "+-----------------------------------------------------------------------------------------------------------+-----+\n",
            "|features                                                                                                   |label|\n",
            "+-----------------------------------------------------------------------------------------------------------+-----+\n",
            "|(24,[1,2,11,12,13,14,17,22],[1.0,45.30540797610398,1.0,1.0,1.0,1.0,1.0,1.0])                               |1    |\n",
            "|(24,[1,2,3,5,6,8,9,11,12,13,15,17,22],[60.0,103.6142230120257,1.0,1.0,1.0,1.0,1.0,1.0,1.0,1.0,1.0,1.0,1.0])|1    |\n",
            "|(24,[1,2,5,6,10,11,12,13,14,18,23],[12.0,75.85,1.0,1.0,1.0,1.0,1.0,1.0,1.0,1.0,1.0])                       |0    |\n",
            "|(24,[1,2,3,5,8,12,13,14,19,21],[69.0,61.45,1.0,1.0,1.0,1.0,1.0,1.0,1.0,1.0])                               |0    |\n",
            "|(24,[1,2,3,5,6,11,13,15,17,22],[7.0,86.5,1.0,1.0,1.0,1.0,1.0,1.0,1.0,1.0])                                 |1    |\n",
            "|(24,[1,2,5,6,12,13,15,17,22],[14.0,85.03742670311915,1.0,1.0,1.0,1.0,1.0,1.0,1.0])                         |1    |\n",
            "|(24,[1,2,3,5,6,8,9,10,11,12,13,15,18,20],[57.0,109.4,1.0,1.0,1.0,1.0,1.0,1.0,1.0,1.0,1.0,1.0,1.0,1.0])     |0    |\n",
            "|(24,[1,2,5,6,15,17,23],[18.0,74.15,1.0,1.0,1.0,1.0,1.0])                                                   |0    |\n",
            "|(24,[1,2,3,5,7,8,10,14,17,23],[28.0,60.9,1.0,1.0,1.0,1.0,1.0,1.0,1.0,1.0])                                 |0    |\n",
            "|(24,[1,2,3,5,12,13,15,17,22],[46.0,80.8824189403559,1.0,1.0,1.0,1.0,1.0,1.0,1.0])                          |1    |\n",
            "+-----------------------------------------------------------------------------------------------------------+-----+\n",
            "only showing top 10 rows\n",
            "\n"
          ]
        }
      ],
      "source": [
        "# visualizando o vetor inteiro\n",
        "dataset_prep.show(10, truncate=False)"
      ]
    },
    {
      "cell_type": "markdown",
      "metadata": {
        "id": "44MBpx0PaNn-"
      },
      "source": [
        "**Analisando dataset_prep:**\n",
        "\n",
        "> Features: o **primeiro valor**, que é o 24 (para todos), é a **quantidade de features que existem**; o **segundo é uma lista das colunas que foi armazenado um valor de feature**, que é a maneira como o vetor foi representado e apenas armazenando valores diferentes de 0 (economia de memória -> fala qual coluna ele registra e que não é 0); e o **terceiro campo é uma lista com os valores das features de fatos**."
      ]
    },
    {
      "cell_type": "markdown",
      "metadata": {
        "id": "wJpyaAw6YuFr"
      },
      "source": [
        "## **Ajuste e Previsão usando modelo LR**"
      ]
    },
    {
      "cell_type": "code",
      "execution_count": 22,
      "metadata": {
        "id": "iCv7q3vFnuSW"
      },
      "outputs": [],
      "source": [
        "# Garante a reprodução dos resultados\n",
        "SEED = 101"
      ]
    },
    {
      "cell_type": "code",
      "execution_count": 23,
      "metadata": {
        "id": "980zTXp0nYD-"
      },
      "outputs": [],
      "source": [
        "# Split em treino e teste\n",
        "# lista com a % de separação dos dados 0.7 e 0.3\n",
        "treino, teste = dataset_prep.randomSplit([0.7, 0.3], seed=SEED)"
      ]
    },
    {
      "cell_type": "code",
      "execution_count": null,
      "metadata": {
        "colab": {
          "base_uri": "https://localhost:8080/"
        },
        "id": "tcel3NVdn4w7",
        "outputId": "c1de996a-b91a-447d-a71f-fcdbcce8ad6e"
      },
      "outputs": [
        {
          "name": "stdout",
          "output_type": "stream",
          "text": [
            "+----------------------------------------------------------------------------------------------------+-----+\n",
            "|features                                                                                            |label|\n",
            "+----------------------------------------------------------------------------------------------------+-----+\n",
            "|(24,[0,1,2,3,4,5,6,7,8,10,13,15,18,20],[1.0,58.0,89.85,1.0,1.0,1.0,1.0,1.0,1.0,1.0,1.0,1.0,1.0,1.0])|0    |\n",
            "|(24,[0,1,2,3,4,5,6,7,8,11,14,18,22],[1.0,71.0,69.2,1.0,1.0,1.0,1.0,1.0,1.0,1.0,1.0,1.0,1.0])        |0    |\n",
            "|(24,[0,1,2,3,4,5,6,7,8,12,13,15,17,22],[1.0,60.0,93.25,1.0,1.0,1.0,1.0,1.0,1.0,1.0,1.0,1.0,1.0,1.0])|0    |\n",
            "|(24,[0,1,2,3,4,5,6,7,8,13,15,17,22],[1.0,65.0,85.75,1.0,1.0,1.0,1.0,1.0,1.0,1.0,1.0,1.0,1.0])       |0    |\n",
            "|(24,[0,1,2,3,4,5,6,7,13,15,17,22],[1.0,60.0,80.95,1.0,1.0,1.0,1.0,1.0,1.0,1.0,1.0,1.0])             |0    |\n",
            "+----------------------------------------------------------------------------------------------------+-----+\n",
            "only showing top 5 rows\n",
            "\n"
          ]
        }
      ],
      "source": [
        "treino.show(5, False)"
      ]
    },
    {
      "cell_type": "code",
      "execution_count": null,
      "metadata": {
        "colab": {
          "base_uri": "https://localhost:8080/"
        },
        "id": "pC0kn4aRn9-3",
        "outputId": "008b5e5a-b6a7-4544-f03b-b5bce772156f"
      },
      "outputs": [
        {
          "data": {
            "text/plain": [
              "7206"
            ]
          },
          "execution_count": 38,
          "metadata": {},
          "output_type": "execute_result"
        }
      ],
      "source": [
        "# quantidade de dados separados para o treino\n",
        "treino.count()"
      ]
    },
    {
      "cell_type": "code",
      "execution_count": null,
      "metadata": {
        "colab": {
          "base_uri": "https://localhost:8080/"
        },
        "id": "RNmkJ8ucn40H",
        "outputId": "5ec1830c-910f-4866-f25f-af49c4630cf7"
      },
      "outputs": [
        {
          "name": "stdout",
          "output_type": "stream",
          "text": [
            "+----------------------------------------------------------------------------------------------------+-----+\n",
            "|features                                                                                            |label|\n",
            "+----------------------------------------------------------------------------------------------------+-----+\n",
            "|(24,[0,1,2,3,4,5,6,7,9,10,11,14,18,22],[1.0,55.0,76.25,1.0,1.0,1.0,1.0,1.0,1.0,1.0,1.0,1.0,1.0,1.0])|0    |\n",
            "|(24,[0,1,2,3,4,5,6,7,13,15,17,22],[1.0,24.0,79.85,1.0,1.0,1.0,1.0,1.0,1.0,1.0,1.0,1.0])             |0    |\n",
            "|(24,[0,1,2,3,4,5,6,8,13,15,17,23],[1.0,34.0,79.6,1.0,1.0,1.0,1.0,1.0,1.0,1.0,1.0,1.0])              |1    |\n",
            "|(24,[0,1,2,3,4,5,6,9,11,12,13,15,17,21],[1.0,66.0,99.5,1.0,1.0,1.0,1.0,1.0,1.0,1.0,1.0,1.0,1.0,1.0])|1    |\n",
            "|(24,[0,1,2,3,4,5,6,9,11,13,15,17,23],[1.0,32.0,91.35,1.0,1.0,1.0,1.0,1.0,1.0,1.0,1.0,1.0,1.0])      |0    |\n",
            "+----------------------------------------------------------------------------------------------------+-----+\n",
            "only showing top 5 rows\n",
            "\n"
          ]
        }
      ],
      "source": [
        "teste.show(5,False)"
      ]
    },
    {
      "cell_type": "code",
      "execution_count": null,
      "metadata": {
        "colab": {
          "base_uri": "https://localhost:8080/"
        },
        "id": "5Wyrp8eQoF4r",
        "outputId": "a5beb2c0-8aa0-47d7-cb95-2fe8ab10f95b"
      },
      "outputs": [
        {
          "data": {
            "text/plain": [
              "3142"
            ]
          },
          "execution_count": 40,
          "metadata": {},
          "output_type": "execute_result"
        }
      ],
      "source": [
        "# quantidade de dados separados para o teste\n",
        "teste.count()"
      ]
    },
    {
      "cell_type": "code",
      "execution_count": 24,
      "metadata": {
        "id": "JHrd5zv4oII8"
      },
      "outputs": [],
      "source": [
        "# Treinamento do Modelo\n",
        "from pyspark.ml.classification import LogisticRegression"
      ]
    },
    {
      "cell_type": "code",
      "execution_count": 26,
      "metadata": {
        "id": "wFeJEm5_oIME"
      },
      "outputs": [],
      "source": [
        "# lr é para logistic regression\n",
        "# porém ainda não conhece os dados\n",
        "lr = LogisticRegression()"
      ]
    },
    {
      "cell_type": "code",
      "execution_count": 27,
      "metadata": {
        "id": "793aEkz8oIQ7"
      },
      "outputs": [],
      "source": [
        "# passando os dados de treino para o modelo par ajustar\n",
        "modelo_lr = lr.fit(treino)"
      ]
    },
    {
      "cell_type": "markdown",
      "metadata": {
        "id": "lukGMGnGobse"
      },
      "source": [
        "> Uma particularidade do Spark é que se utiliza a palavra _transform_ e não _predict_ para gerar as previsões."
      ]
    },
    {
      "cell_type": "code",
      "execution_count": 28,
      "metadata": {
        "id": "MaalEvD8oIUU"
      },
      "outputs": [],
      "source": [
        "previsoes_lr_teste = modelo_lr.transform(teste)"
      ]
    },
    {
      "cell_type": "code",
      "execution_count": 29,
      "metadata": {
        "colab": {
          "base_uri": "https://localhost:8080/"
        },
        "id": "e6dy0gd8oita",
        "outputId": "b2a74b1e-8085-4db7-d5a5-b54426251ab7"
      },
      "outputs": [
        {
          "name": "stdout",
          "output_type": "stream",
          "text": [
            "+--------------------+-----+--------------------+--------------------+----------+\n",
            "|            features|label|       rawPrediction|         probability|prediction|\n",
            "+--------------------+-----+--------------------+--------------------+----------+\n",
            "|(24,[0,1,2,3,4,5,...|    0|[3.02174179751551...|[0.95354674000282...|       0.0|\n",
            "|(24,[0,1,2,3,4,5,...|    0|[-0.0922192966076...|[0.47696150091605...|       1.0|\n",
            "|(24,[0,1,2,3,4,5,...|    1|[0.18744121711361...|[0.54672358463156...|       0.0|\n",
            "|(24,[0,1,2,3,4,5,...|    1|[0.91716501260103...|[0.71446410549163...|       0.0|\n",
            "|(24,[0,1,2,3,4,5,...|    0|[-0.1495904711610...|[0.46267196467801...|       1.0|\n",
            "+--------------------+-----+--------------------+--------------------+----------+\n",
            "only showing top 5 rows\n",
            "\n"
          ]
        }
      ],
      "source": [
        "previsoes_lr_teste.show(5)"
      ]
    },
    {
      "cell_type": "markdown",
      "metadata": {
        "id": "tt7K06TXorG5"
      },
      "source": [
        "**As previsões possuem 5 colunas:**\n",
        "- A **primeira coluna são as “Features”** que são dos dados já conhecidos, são as informações dos clientes;\n",
        "- A **segunda coluna é a “Label” com o valor real**, ou seja, o histórico de cliente, se cancelou o serviço ou não;\n",
        "- **'rawPrediction'** seria a'predição bruta', ou o dado bruto;\n",
        "- **'probability'** é relativa à sigmoide, onde quanto mais próximo de 1, maior a probabilidade;\n",
        "- **'Prediction'** é o que o modelo realmente decidiu em relação àquele dado.\n",
        "\n",
        "Os valores de probability são equivalentes aos valores da regressão depois de passados pela função de ativação - função logística que abrange valores entre 0 e 1. O valor de predição (em prediction), nesse caso, é dado de acordo com o valor de probability de forma que:\n",
        "\n",
        "1. Se **probability maior ou igual a 0.5, prediction será 0**; e\n",
        "2. Se **probability menor que 0.5, prediction será 1**.\n",
        "\n",
        "Os valores em rawPrediction são aqueles calculados antes de passarem pela função de ativação, ou seja, são os cálculos da regressão."
      ]
    },
    {
      "cell_type": "markdown",
      "metadata": {
        "id": "g4-gfN-CpYJL"
      },
      "source": [
        "> No primeiro caso, na primeira linha, onde a label original era 0, a predição na última coluna foi 0, isso significa que o modelo acertou. no primeiro caso, por exemplo, na primeira linha, que a nossa label original era 0, e a nossa predição na última coluna foi 0, então o modelo acertou. Na segunda linha seria o segundo cliente, que não cancelou o serviço, mas o modelo previu que cancelou."
      ]
    },
    {
      "cell_type": "markdown",
      "metadata": {
        "id": "j-ld3egArc0C"
      },
      "source": [
        "## **Métricas**\n",
        "\n",
        "Métricas do próprio modelo pode ser acessado por `modelo_lr.summary`."
      ]
    },
    {
      "cell_type": "code",
      "execution_count": 30,
      "metadata": {
        "colab": {
          "base_uri": "https://localhost:8080/"
        },
        "id": "iLXU7tb1oiv5",
        "outputId": "8fd52743-7097-4fd3-8b2e-76e9e3066c92"
      },
      "outputs": [
        {
          "data": {
            "text/plain": [
              "<pyspark.ml.classification.BinaryLogisticRegressionTrainingSummary at 0x78f243b23340>"
            ]
          },
          "execution_count": 30,
          "metadata": {},
          "output_type": "execute_result"
        }
      ],
      "source": [
        "modelo_lr.summary"
      ]
    },
    {
      "cell_type": "code",
      "execution_count": 31,
      "metadata": {
        "id": "1-HYskDPoiy2"
      },
      "outputs": [],
      "source": [
        "# salvando em uma variável\n",
        "resumo_lr_treino = modelo_lr.summary"
      ]
    },
    {
      "cell_type": "code",
      "execution_count": 32,
      "metadata": {
        "colab": {
          "base_uri": "https://localhost:8080/"
        },
        "id": "jSM7rtjaoi1D",
        "outputId": "adcfaaa4-71a8-44d8-d5f0-2c96441ba379"
      },
      "outputs": [
        {
          "data": {
            "text/plain": [
              "0.7849014709963918"
            ]
          },
          "execution_count": 32,
          "metadata": {},
          "output_type": "execute_result"
        }
      ],
      "source": [
        "# métricas do treino\n",
        "resumo_lr_treino.accuracy"
      ]
    },
    {
      "cell_type": "markdown",
      "metadata": {
        "id": "IHhL9ybCsAPA"
      },
      "source": [
        "O retorno é um valor de aproximadamente 0.78... +casas decimais. É assim que se acessa as informações como atributos, ou seja, essas métricas do .summary em relação aos dados de treino."
      ]
    },
    {
      "cell_type": "code",
      "execution_count": 33,
      "metadata": {
        "colab": {
          "base_uri": "https://localhost:8080/"
        },
        "id": "H0RZg8Djr8np",
        "outputId": "d06df4b6-b7bf-4e8f-8c55-766b0e8b213b"
      },
      "outputs": [
        {
          "name": "stdout",
          "output_type": "stream",
          "text": [
            "Acurácia: 0.784901\n",
            "Precisão: 0.770686\n",
            "Recall: 0.812517\n",
            "F1: 0.791049\n"
          ]
        }
      ],
      "source": [
        "print(\"Acurácia: %f\" % resumo_lr_treino.accuracy)\n",
        "print(\"Precisão: %f\" % resumo_lr_treino.precisionByLabel[1])\n",
        "print(\"Recall: %f\" % resumo_lr_treino.recallByLabel[1])\n",
        "print(\"F1: %f\" % resumo_lr_treino.fMeasureByLabel()[1])"
      ]
    },
    {
      "cell_type": "markdown",
      "metadata": {
        "id": "hAFOybqzsSbN"
      },
      "source": [
        "> Todas as métricas estão próximas de 0.8, em relação aos dados de treino. Isso diz o quão bem o modelo se ajustou, pois é uma característica importante, mas também tem que se sair bem em relação aos de teste.\n",
        "\n",
        "Para isso, é necessário analisar os dados através de uma **matriz de confusão**. No entanto, o Spark não traz no módulo de DataFrame a criação dessa matriz, sendo necessário calcular e extrair esses dados.\n",
        "\n",
        "A previsão dos dados de teste está salvo na variável `previsoes_lr_teste`. Então, é através dela que os cálculos serão feito."
      ]
    },
    {
      "cell_type": "code",
      "execution_count": 31,
      "metadata": {
        "colab": {
          "base_uri": "https://localhost:8080/"
        },
        "id": "tu2fqL_Or8qn",
        "outputId": "a39d095d-c26c-4bfb-a15b-bf7aa888088a"
      },
      "outputs": [
        {
          "name": "stdout",
          "output_type": "stream",
          "text": [
            "+-----+----------+\n",
            "|label|prediction|\n",
            "+-----+----------+\n",
            "|    0|       0.0|\n",
            "|    0|       1.0|\n",
            "|    1|       0.0|\n",
            "|    1|       0.0|\n",
            "|    0|       1.0|\n",
            "|    0|       1.0|\n",
            "|    0|       1.0|\n",
            "|    0|       0.0|\n",
            "|    0|       0.0|\n",
            "|    0|       0.0|\n",
            "|    1|       1.0|\n",
            "|    1|       1.0|\n",
            "|    0|       0.0|\n",
            "|    0|       0.0|\n",
            "|    0|       0.0|\n",
            "|    0|       0.0|\n",
            "|    0|       0.0|\n",
            "|    0|       0.0|\n",
            "|    0|       0.0|\n",
            "|    0|       0.0|\n",
            "+-----+----------+\n",
            "only showing top 20 rows\n",
            "\n"
          ]
        }
      ],
      "source": [
        "# Seleção (label verdadeiro e label predito) e visualização dos dados:\n",
        "# É preciso analisar os dados reais que estão salvos na coluna 'label'\n",
        "# .select() para ver a predição que o modelo classificou em relação a um cliente\n",
        "previsoes_lr_teste.select('label', 'prediction').show()"
      ]
    },
    {
      "cell_type": "markdown",
      "metadata": {
        "id": "VCFwd3h9txBr"
      },
      "source": [
        "- Primeira cláusula: queremos que a classe real seja igual a 1, ou seja, que cliente tenha cancelado o serviço;\n",
        "- Segunda cláusula: usa & para separar as cláusulas, e dizer que o f.col, a seleção de uma coluna, vai ser a 'prediction'."
      ]
    },
    {
      "cell_type": "code",
      "execution_count": 32,
      "metadata": {
        "colab": {
          "base_uri": "https://localhost:8080/"
        },
        "id": "XlBW0lPLr8tV",
        "outputId": "5224d544-6ecf-401b-afb9-ab51ae7bdaf1"
      },
      "outputs": [
        {
          "name": "stdout",
          "output_type": "stream",
          "text": [
            "+-----+----------+\n",
            "|label|prediction|\n",
            "+-----+----------+\n",
            "|    1|       1.0|\n",
            "|    1|       1.0|\n",
            "|    1|       1.0|\n",
            "|    1|       1.0|\n",
            "|    1|       1.0|\n",
            "+-----+----------+\n",
            "only showing top 5 rows\n",
            "\n"
          ]
        }
      ],
      "source": [
        "# Criação de cláusulas (verifica se a classificou corretamente)\n",
        "previsoes_lr_teste.select('label', 'prediction').where((f.col('label') == 1) & (f.col('prediction') == 1)).show(5)"
      ]
    },
    {
      "cell_type": "code",
      "execution_count": null,
      "metadata": {
        "colab": {
          "base_uri": "https://localhost:8080/"
        },
        "id": "H7OED5W0r8wS",
        "outputId": "5442f67c-ca17-40d4-9142-c999e483d8b3"
      },
      "outputs": [
        {
          "data": {
            "text/plain": [
              "1256"
            ]
          },
          "execution_count": 51,
          "metadata": {},
          "output_type": "execute_result"
        }
      ],
      "source": [
        "# Apaga o .show() porque o interesse é na contagem\n",
        "# Usa .count() no final\n",
        "previsoes_lr_teste.select('label', 'prediction').where((f.col('label') == 1) & (f.col('prediction') == 1)).count()"
      ]
    },
    {
      "cell_type": "code",
      "execution_count": 33,
      "metadata": {
        "colab": {
          "base_uri": "https://localhost:8080/"
        },
        "id": "7Dtv7qcOr8yh",
        "outputId": "f94c1bc7-6471-4afa-9e9b-c7914c3aca5a"
      },
      "outputs": [
        {
          "name": "stdout",
          "output_type": "stream",
          "text": [
            "1256 1179 400 307\n"
          ]
        }
      ],
      "source": [
        "# Repete o processo para as demais possibilidades e salva em variáveis\n",
        "tp = previsoes_lr_teste.select('label', 'prediction').where((f.col('label') == 1) & (f.col('prediction') == 1)).count() # true positive: acertou o que era\n",
        "tn = previsoes_lr_teste.select('label', 'prediction').where((f.col('label') == 0) & (f.col('prediction') == 0)).count() # true negative: acertou o que não era\n",
        "fp = previsoes_lr_teste.select('label', 'prediction').where((f.col('label') == 0) & (f.col('prediction') == 1)).count() # false positive: falou que era, mas não era\n",
        "fn = previsoes_lr_teste.select('label', 'prediction').where((f.col('label') == 1) & (f.col('prediction') == 0)).count() # false negative: falou que não era, mas era\n",
        "print(tp, tn,fp, fn)"
      ]
    },
    {
      "cell_type": "code",
      "execution_count": 54,
      "metadata": {
        "id": "1c0Tu-7hr80y"
      },
      "outputs": [],
      "source": [
        "# Criando uma função para utilizar em outros modelos\n",
        "def calcula_mostra_matriz_confusao(df_transform_modelo, normalize=False, percentage=True):\n",
        "  tp = df_transform_modelo.select('label', 'prediction').where((f.col('label') == 1) & (f.col('prediction') == 1)).count()\n",
        "  tn = df_transform_modelo.select('label', 'prediction').where((f.col('label') == 0) & (f.col('prediction') == 0)).count()\n",
        "  fp = df_transform_modelo.select('label', 'prediction').where((f.col('label') == 0) & (f.col('prediction') == 1)).count()\n",
        "  fn = df_transform_modelo.select('label', 'prediction').where((f.col('label') == 1) & (f.col('prediction') == 0)).count()\n",
        "\n",
        "  valorP = 1\n",
        "  valorN = 1\n",
        "\n",
        "  if normalize:\n",
        "    valorP = tp + fn\n",
        "    valorN = fp + tn\n",
        "\n",
        "  if percentage and normalize:\n",
        "    valorP = valorP / 100\n",
        "    valorN = valorN / 100\n",
        "\n",
        "  print(' '*20, 'Previsto')\n",
        "  print(' '*15, 'Churn', ' '*5 ,'Não-Churn')\n",
        "  print(' '*4, 'Churn', ' '*6, int(tp/valorP), ' '*7, int(fn/valorP))\n",
        "  print('Real')\n",
        "  print(' '*4, 'Não-Churn', ' '*2, int(fp/valorN), ' '*7, int(tn/valorN))"
      ]
    },
    {
      "cell_type": "code",
      "execution_count": null,
      "metadata": {
        "colab": {
          "base_uri": "https://localhost:8080/"
        },
        "id": "oMlgqJfru6jm",
        "outputId": "dcb236d4-fa1d-4880-f5ff-4af0b84bb9be"
      },
      "outputs": [
        {
          "name": "stdout",
          "output_type": "stream",
          "text": [
            "                     Previsto\n",
            "                Churn       Não-Churn\n",
            "     Churn        1256         307\n",
            "Real\n",
            "     Não-Churn    400         1179\n"
          ]
        }
      ],
      "source": [
        "# sem normalizar, pois o interesse são os dados calculados\n",
        "calcula_mostra_matriz_confusao(previsoes_lr_teste, normalize=False)"
      ]
    },
    {
      "cell_type": "markdown",
      "metadata": {
        "id": "s729fBWIvU6c"
      },
      "source": [
        "> Por exemplo, existem 1256 dados que foram previstos com churn, e que realmente o eram (**true positive**). Já na coluna do lado, foi previsto 307 que não foram churn, mas, na verdade, eles eram churn, então o modelo errou (false positive).\n",
        "\n",
        "Se observar a diagonal da matriz, tem o valor 307 e o 400, que são os valores que a matriz errou. Errou tanto em falar que era churn e que na verdade não era,e não-churn que na verdade era.\n",
        "\n",
        "Essa métrica é muito importante para fazer a análise do modelo e criar uma referência para comparar com outros modelos. A partir disso é possível entender se a regressão logística é o modelo ideal para resolver o problema proposto, ou se é algum outro modelo."
      ]
    },
    {
      "cell_type": "code",
      "execution_count": null,
      "metadata": {
        "colab": {
          "base_uri": "https://localhost:8080/"
        },
        "id": "oSXCU6JDu6oC",
        "outputId": "cd534278-bc71-4b69-aa19-7280d4842baa"
      },
      "outputs": [
        {
          "name": "stdout",
          "output_type": "stream",
          "text": [
            "                    Previsto\n",
            "               Churn     Não-Churn\n",
            "    Churn      80       19\n",
            "Real\n",
            "    Não-Churn  25       74\n",
            "\n",
            "Acurácia: 0.7849014709963918\n",
            "Precisão: 0.7706855791962175\n",
            "Recall: 0.8125173082248685\n",
            "F1: 0.7910488002156916\n",
            "\n"
          ]
        }
      ],
      "source": [
        "from utils import calcula_mostra_metricas\n",
        "\n",
        "print(calcula_mostra_metricas(modelo_lr, previsoes_lr_teste, normalize=True))"
      ]
    },
    {
      "cell_type": "markdown",
      "metadata": {
        "id": "RmOOUQ1NzeyL"
      },
      "source": [
        "# Testando: **Árvore de Decisão**:\n",
        "\n",
        "**O modelo:** As Árvores de decisão (_Decision Tree Classifier_) são métodos populares para tarefas de machine learning de classificação e regressão. As árvores de decisão são amplamente utiizadas por serem fáceis de interpretar, lidar com features categóricas e contínuas, podem ser aplicadas a problemas de classificação com múltiplas classes e não requerem padronização dos dados. Algoritmos de conjuntos de árvores, como _Random Forest_ e _Boosting_, estão entre os de melhor desempenho para tarefas de classificação e regressão.\n",
        "\n",
        "Esse tipo de algoritmo trabalha pegando os dados fornecidos para ajuste e analisa cada feature, buscando criar ramificações e calculando a pureza de cada grupo. O algoritmo repete esse processo enquanto seleciona outros valores para as features e mesmo outras features, buscando purificar o máximo possível cada grupo até criar grupos contendo somente uma classe por ramo, chamado de folha (**essa folha é a classificação de fato**). Esse modelo realiza cálculos de ganho de informação, ou seja, calcula o quanto ele conseguiu purificar determinado ramo tomando a decisão de olhar para determinada feature e determinado valor.\n",
        "\n",
        "Graficamente, a árvore de decisão pode ser representada de forma que cada uma das decisões tomadas no processo possam ser visualizadas. Seus elementos principais são os nós, ramos e folhas. A estrutura da árvore se inicia com um nó inicial, também chamado de raiz. A partir dela são traçadas ramificações, que geram novos nós e o processo se repete para os nós subsequentes até que chegue a uma folha, que se trata de um nó especial que tem a informação da resposta, sendo ela uma categoria ou um valor previsto. Cada ramo representa uma tomada de decisão a partir de um valor ou de uma categoria das variáveis explicativas, dividindo o conjunto de dados em nós que apresentam dados com características cada vez mais similares entre si.\n",
        "\n",
        "\n",
        "**Principais critérios para divisão dos nós:**\n",
        "- Índice Gini: mede grau de heterogeneidade dos dados. O objetivo dele é medir a frequência de um elemento aleatório de um nó ser rotulado de maneira incorreta. Se o índice Gini for igual a 0, isso indica que o nó é puro. No entanto, se o valor dele se aproxima mais do valor 1, o nó é impuro.\n",
        "- Entropia: mede desordem dos dados de um nó por meio da variável classificadora.\n",
        "\n",
        "Algumas vantagens das árvores de decisão:\n",
        "\n",
        "- não são sensíveis à escala dos dados, evitando a necessidade de modificações;\n",
        "- são fáceis de explicar: é possível gerar essas árvores que facilitam o entendimento das decisões tomadas pelo algoritmo.\n",
        "\n",
        "**Objetivo**: utilizar esse algoritmo para identificar pessoas que pretendem cancelar ou não o serviço."
      ]
    },
    {
      "cell_type": "markdown",
      "metadata": {
        "id": "qJOxAiSC5yHH"
      },
      "source": [
        "## **Ajuste e Previsão usando modelo Decision Tree**"
      ]
    },
    {
      "cell_type": "code",
      "execution_count": 34,
      "metadata": {
        "id": "ewqrZJA001aW"
      },
      "outputs": [],
      "source": [
        "from pyspark.ml.classification import DecisionTreeClassifier"
      ]
    },
    {
      "cell_type": "code",
      "execution_count": 35,
      "metadata": {
        "id": "SJtL7DIh52Mk"
      },
      "outputs": [],
      "source": [
        "# esse algoritmo serve aleatoriedade para trabalhar e tomar decisões, portante é importante passar a SEED para garantir os mesmos resultados\n",
        "dtc = DecisionTreeClassifier(seed=SEED)"
      ]
    },
    {
      "cell_type": "code",
      "execution_count": 36,
      "metadata": {
        "id": "8uKgsTLe69t1"
      },
      "outputs": [],
      "source": [
        "# ajustando o modelo aos dados de treino\n",
        "modelo_dtc = dtc.fit(treino)"
      ]
    },
    {
      "cell_type": "code",
      "execution_count": 37,
      "metadata": {
        "id": "CH3BcMrF52R5"
      },
      "outputs": [],
      "source": [
        "# previsões\n",
        "previsoes_dtc_treino = modelo_dtc.transform(treino)"
      ]
    },
    {
      "cell_type": "code",
      "execution_count": null,
      "metadata": {
        "colab": {
          "base_uri": "https://localhost:8080/"
        },
        "id": "Xt7dbAUX52V7",
        "outputId": "41b38971-5a19-46b0-d79c-4a746891a291"
      },
      "outputs": [
        {
          "name": "stdout",
          "output_type": "stream",
          "text": [
            "+--------------------+-----+--------------+--------------------+----------+\n",
            "|            features|label| rawPrediction|         probability|prediction|\n",
            "+--------------------+-----+--------------+--------------------+----------+\n",
            "|(24,[0,1,2,3,4,5,...|    0|[2056.0,334.0]|[0.86025104602510...|       0.0|\n",
            "|(24,[0,1,2,3,4,5,...|    0|[2056.0,334.0]|[0.86025104602510...|       0.0|\n",
            "|(24,[0,1,2,3,4,5,...|    0|    [22.0,3.0]|         [0.88,0.12]|       0.0|\n",
            "|(24,[0,1,2,3,4,5,...|    0|    [22.0,3.0]|         [0.88,0.12]|       0.0|\n",
            "|(24,[0,1,2,3,4,5,...|    0|    [22.0,3.0]|         [0.88,0.12]|       0.0|\n",
            "|(24,[0,1,2,3,4,5,...|    1|[331.0,1951.0]|[0.14504820333041...|       1.0|\n",
            "|(24,[0,1,2,3,4,5,...|    0| [239.0,205.0]|[0.53828828828828...|       0.0|\n",
            "|(24,[0,1,2,3,4,5,...|    1|[331.0,1951.0]|[0.14504820333041...|       1.0|\n",
            "|(24,[0,1,2,3,4,5,...|    0|[331.0,1951.0]|[0.14504820333041...|       1.0|\n",
            "|(24,[0,1,2,3,4,5,...|    0|[331.0,1951.0]|[0.14504820333041...|       1.0|\n",
            "|(24,[0,1,2,3,4,5,...|    0|[331.0,1951.0]|[0.14504820333041...|       1.0|\n",
            "|(24,[0,1,2,3,4,5,...|    0|[2056.0,334.0]|[0.86025104602510...|       0.0|\n",
            "|(24,[0,1,2,3,4,5,...|    0|[331.0,1951.0]|[0.14504820333041...|       1.0|\n",
            "|(24,[0,1,2,3,4,5,...|    0|[2056.0,334.0]|[0.86025104602510...|       0.0|\n",
            "|(24,[0,1,2,3,4,5,...|    0| [239.0,205.0]|[0.53828828828828...|       0.0|\n",
            "+--------------------+-----+--------------+--------------------+----------+\n",
            "only showing top 15 rows\n",
            "\n"
          ]
        }
      ],
      "source": [
        "# verificando as previsões\n",
        "previsoes_dtc_treino.show(15)"
      ]
    },
    {
      "cell_type": "markdown",
      "metadata": {
        "id": "Gk47xtbC6YxQ"
      },
      "source": [
        "**Aqui tem as mesmas 5 colunas que existe na regressão logística**\n",
        "\n",
        "  - \"features\", a qual informa as features armazenando as características do cliente;\n",
        "  - \"label\" que corresponde à classificação real dos dados informando se o cliente cancelou ou não o serviço;\n",
        "  - \"rawPrediction\";\n",
        "  - \"probability\";\n",
        "  - \"prediction\", a qual corresponde à decisão final dos ramos da árvore em relação à determinado cliente."
      ]
    },
    {
      "cell_type": "markdown",
      "metadata": {
        "id": "ACn0mLap7oOV"
      },
      "source": [
        "### **Métricas para avaliar o modelo:**\n",
        "\n",
        "Utilizando outra ferramenta - Multiclass classification evaluator, que é um avaliador de classificação de mais de duas classes. Essa ferramenta funciona bem para o problema do projeto que é uma classificação binária."
      ]
    },
    {
      "cell_type": "code",
      "execution_count": 41,
      "metadata": {
        "id": "smMAKSJx6tcT"
      },
      "outputs": [],
      "source": [
        "# importa a classe\n",
        "from pyspark.ml.evaluation import MulticlassClassificationEvaluator"
      ]
    },
    {
      "cell_type": "code",
      "execution_count": 39,
      "metadata": {
        "id": "HrjXoM6D8X3l"
      },
      "outputs": [],
      "source": [
        "# instancia o avaliador\n",
        "evaluator = MulticlassClassificationEvaluator()"
      ]
    },
    {
      "cell_type": "code",
      "execution_count": null,
      "metadata": {
        "colab": {
          "base_uri": "https://localhost:8080/"
        },
        "id": "3iB9H2xv8X5w",
        "outputId": "127ced5d-3cfa-42aa-b468-4160cffedeb0"
      },
      "outputs": [
        {
          "data": {
            "text/plain": [
              "0.7917013599777962"
            ]
          },
          "execution_count": 62,
          "metadata": {},
          "output_type": "execute_result"
        }
      ],
      "source": [
        "# vai precisar das classificações que o modelo fez\n",
        "# na variável previsoes_dtc_treino tem os dados reais e preditos\n",
        "# segundo parâmetro: qual a métrica de interesse. Nesse caso foi a acurácia\n",
        "# o seg parâmetro se passa no formato de dicionário\n",
        "evaluator.evaluate(previsoes_dtc_treino, {evaluator.metricName: 'accuracy'})"
      ]
    },
    {
      "cell_type": "code",
      "execution_count": null,
      "metadata": {
        "colab": {
          "base_uri": "https://localhost:8080/"
        },
        "id": "Ko7aEYfM8beT",
        "outputId": "b834152a-5f21-4f09-d2af-2a8ed007ac93"
      },
      "outputs": [
        {
          "name": "stdout",
          "output_type": "stream",
          "text": [
            "Acurácia: 0.791701\n",
            "Precisão: 0.805090\n",
            "Recall: 0.770978\n",
            "F1: 0.787664\n"
          ]
        }
      ],
      "source": [
        "# outras métricas disponíveis:\n",
        "print(\"Acurácia: %f\" % evaluator.evaluate(previsoes_dtc_treino, {evaluator.metricName: \"accuracy\"}))\n",
        "print(\"Precisão: %f\" % evaluator.evaluate(previsoes_dtc_treino, {evaluator.metricName: \"precisionByLabel\", evaluator.metricLabel: 1}))\n",
        "print(\"Recall: %f\" % evaluator.evaluate(previsoes_dtc_treino, {evaluator.metricName: \"recallByLabel\", evaluator.metricLabel: 1}))\n",
        "print(\"F1: %f\" % evaluator.evaluate(previsoes_dtc_treino, {evaluator.metricName: \"fMeasureByLabel\", evaluator.metricLabel: 1}))"
      ]
    },
    {
      "cell_type": "markdown",
      "metadata": {
        "id": "ppPF3D4h9F6C"
      },
      "source": [
        "> Os resultados demonstram uma boa aderencia aos dados de treino (~80%).\n",
        "\n",
        "**Mas se ajusta bem tb com os dados de teste?** // o modelo generaliza bem?"
      ]
    },
    {
      "cell_type": "code",
      "execution_count": 40,
      "metadata": {
        "id": "x3bz8oq68biJ"
      },
      "outputs": [],
      "source": [
        "# previsões com os dados de teste\n",
        "previsoes_dtc_teste = modelo_dtc.transform(teste)"
      ]
    },
    {
      "cell_type": "code",
      "execution_count": null,
      "metadata": {
        "colab": {
          "base_uri": "https://localhost:8080/"
        },
        "id": "OHur7nx98f5n",
        "outputId": "c4876b8b-69e8-4c48-9387-d85e38b5c602"
      },
      "outputs": [
        {
          "name": "stdout",
          "output_type": "stream",
          "text": [
            "+--------------------+-----+--------------+--------------------+----------+\n",
            "|            features|label| rawPrediction|         probability|prediction|\n",
            "+--------------------+-----+--------------+--------------------+----------+\n",
            "|(24,[0,1,2,3,4,5,...|    0|[2056.0,334.0]|[0.86025104602510...|       0.0|\n",
            "|(24,[0,1,2,3,4,5,...|    0|  [62.0,128.0]|[0.32631578947368...|       1.0|\n",
            "|(24,[0,1,2,3,4,5,...|    1| [239.0,205.0]|[0.53828828828828...|       0.0|\n",
            "|(24,[0,1,2,3,4,5,...|    1| [239.0,205.0]|[0.53828828828828...|       0.0|\n",
            "|(24,[0,1,2,3,4,5,...|    0| [239.0,205.0]|[0.53828828828828...|       0.0|\n",
            "|(24,[0,1,2,3,4,5,...|    0|  [51.0,141.0]| [0.265625,0.734375]|       1.0|\n",
            "|(24,[0,1,2,3,4,5,...|    0|[331.0,1951.0]|[0.14504820333041...|       1.0|\n",
            "|(24,[0,1,2,3,4,5,...|    0| [239.0,205.0]|[0.53828828828828...|       0.0|\n",
            "|(24,[0,1,2,3,4,5,...|    0|  [63.0,118.0]|[0.34806629834254...|       1.0|\n",
            "|(24,[0,1,2,3,4,5,...|    0|[2056.0,334.0]|[0.86025104602510...|       0.0|\n",
            "|(24,[0,1,2,3,4,5,...|    1|  [63.0,118.0]|[0.34806629834254...|       1.0|\n",
            "|(24,[0,1,2,3,4,5,...|    1|[331.0,1951.0]|[0.14504820333041...|       1.0|\n",
            "|(24,[0,1,2,3,4,5,...|    0|[2056.0,334.0]|[0.86025104602510...|       0.0|\n",
            "|(24,[0,1,2,3,4,8,...|    0| [445.0,181.0]|[0.71086261980830...|       0.0|\n",
            "|(24,[0,1,2,3,4,8,...|    0|[2056.0,334.0]|[0.86025104602510...|       0.0|\n",
            "|(24,[0,1,2,3,4,8,...|    0|[2056.0,334.0]|[0.86025104602510...|       0.0|\n",
            "|(24,[0,1,2,3,5,6,...|    0|[2056.0,334.0]|[0.86025104602510...|       0.0|\n",
            "|(24,[0,1,2,3,5,6,...|    0| [239.0,205.0]|[0.53828828828828...|       0.0|\n",
            "|(24,[0,1,2,3,5,6,...|    0|[2056.0,334.0]|[0.86025104602510...|       0.0|\n",
            "|(24,[0,1,2,3,5,6,...|    0|[2056.0,334.0]|[0.86025104602510...|       0.0|\n",
            "+--------------------+-----+--------------+--------------------+----------+\n",
            "only showing top 20 rows\n",
            "\n"
          ]
        }
      ],
      "source": [
        "previsoes_dtc_teste.show()"
      ]
    },
    {
      "cell_type": "code",
      "execution_count": null,
      "metadata": {
        "colab": {
          "base_uri": "https://localhost:8080/"
        },
        "id": "MhYSynkf8f8f",
        "outputId": "b1d66e67-9b8f-41fe-a30e-e6dc2c516184"
      },
      "outputs": [
        {
          "data": {
            "text/plain": [
              "0.7714831317632082"
            ]
          },
          "execution_count": 77,
          "metadata": {},
          "output_type": "execute_result"
        }
      ],
      "source": [
        "# mesma estratégia para calcular as métricas do modelo\n",
        "evaluator.evaluate(previsoes_dtc_teste, {evaluator.metricName: 'accuracy'})"
      ]
    },
    {
      "cell_type": "markdown",
      "metadata": {
        "id": "d94BT0ZjtG-p"
      },
      "source": [
        "> Próximo aos dados de treino"
      ]
    },
    {
      "cell_type": "code",
      "execution_count": null,
      "metadata": {
        "colab": {
          "base_uri": "https://localhost:8080/"
        },
        "id": "tKypR5Xe8f-9",
        "outputId": "085e3fd4-7a85-4318-c840-956864b20eb2"
      },
      "outputs": [
        {
          "name": "stdout",
          "output_type": "stream",
          "text": [
            "Decision Tree Classifier\n",
            "========================================\n",
            "Dados de Treino\n",
            "========================================\n",
            "Matriz de Confusão\n",
            "----------------------------------------\n",
            "                     Previsto\n",
            "                Churn       Não-Churn\n",
            "     Churn        2784         827\n",
            "Real\n",
            "     Não-Churn    674         2921\n",
            "----------------------------------------\n",
            "Métricas\n",
            "----------------------------------------\n",
            "Acurácia: 0.791701\n",
            "Precisão: 0.805090\n",
            "Recall: 0.770978\n",
            "F1: 0.787664\n",
            "\n",
            "========================================\n",
            "Dados de Teste\n",
            "========================================\n",
            "Matriz de Confusão\n",
            "----------------------------------------\n",
            "                     Previsto\n",
            "                Churn       Não-Churn\n",
            "     Churn        1181         382\n",
            "Real\n",
            "     Não-Churn    336         1243\n",
            "----------------------------------------\n",
            "Métricas\n",
            "----------------------------------------\n",
            "Acurácia: 0.771483\n",
            "Precisão: 0.778510\n",
            "Recall: 0.755598\n",
            "F1: 0.766883\n"
          ]
        }
      ],
      "source": [
        "# Relatório completo de todas as métricas e facilitar a interpretação\n",
        "print('Decision Tree Classifier')\n",
        "print(\"=\"*40)\n",
        "print(\"Dados de Treino\")\n",
        "print(\"=\"*40)\n",
        "print(\"Matriz de Confusão\")\n",
        "print(\"-\"*40)\n",
        "calcula_mostra_matriz_confusao(previsoes_dtc_treino, normalize=False)\n",
        "print(\"-\"*40)\n",
        "print(\"Métricas\")\n",
        "print(\"-\"*40)\n",
        "print(\"Acurácia: %f\" % evaluator.evaluate(previsoes_dtc_treino, {evaluator.metricName: \"accuracy\"}))\n",
        "print(\"Precisão: %f\" % evaluator.evaluate(previsoes_dtc_treino, {evaluator.metricName: \"precisionByLabel\", evaluator.metricLabel: 1}))\n",
        "print(\"Recall: %f\" % evaluator.evaluate(previsoes_dtc_treino, {evaluator.metricName: \"recallByLabel\", evaluator.metricLabel: 1}))\n",
        "print(\"F1: %f\" % evaluator.evaluate(previsoes_dtc_treino, {evaluator.metricName: \"fMeasureByLabel\", evaluator.metricLabel: 1}))\n",
        "print(\"\")\n",
        "print(\"=\"*40)\n",
        "print(\"Dados de Teste\")\n",
        "print(\"=\"*40)\n",
        "print(\"Matriz de Confusão\")\n",
        "print(\"-\"*40)\n",
        "calcula_mostra_matriz_confusao(previsoes_dtc_teste, normalize=False)\n",
        "print(\"-\"*40)\n",
        "print(\"Métricas\")\n",
        "print(\"-\"*40)\n",
        "print(\"Acurácia: %f\" % evaluator.evaluate(previsoes_dtc_teste, {evaluator.metricName: \"accuracy\"}))\n",
        "print(\"Precisão: %f\" % evaluator.evaluate(previsoes_dtc_teste, {evaluator.metricName: \"precisionByLabel\", evaluator.metricLabel: 1}))\n",
        "print(\"Recall: %f\" % evaluator.evaluate(previsoes_dtc_teste, {evaluator.metricName: \"recallByLabel\", evaluator.metricLabel: 1}))\n",
        "print(\"F1: %f\" % evaluator.evaluate(previsoes_dtc_teste, {evaluator.metricName: \"fMeasureByLabel\", evaluator.metricLabel: 1}))"
      ]
    },
    {
      "cell_type": "markdown",
      "metadata": {
        "id": "n4qcZnCz9yEw"
      },
      "source": [
        "> **Importante**: Análise da matriz de confusão dos testes: erros da diagonal -> nos dados de treino ele previu que 827 pessoas não cancelariam o serviço e na vdd elas cancelaram. Um erro parecido acontece para a previsão de que 674 pessoas cancelariam o serviço, mas na verdade eles não iriam cancelar o serviço. É um número expressivo considerando o volume dos dados  disponível.\n",
        "\n",
        "Para os dados de teste, o modelo previu 382 pessoas que não cancelariam o serviço e cancelaram (falso negativo). Isso é problemático, pois em teoria se o setor de marketing oferecer serviços para esses clientes seria uma perda de recurso. **A taxa de falso negativo precisa ser diminuída ao máximo.**\n",
        "\n",
        "**Conclusão**: mais algoritmos precisam ser explorados para melhorar esses resultados."
      ]
    },
    {
      "cell_type": "code",
      "execution_count": null,
      "metadata": {
        "id": "cdgrpBdxwIFy"
      },
      "outputs": [],
      "source": [
        "# Usando a função externa\n",
        "from utils import calcula_mostra_metricas_evaluate\n",
        "print(calcula_mostra_metricas_evaluate(previsoes_lr_teste, normalize=False))"
      ]
    },
    {
      "cell_type": "markdown",
      "metadata": {
        "id": "SPWY6uBEwmSi"
      },
      "source": [
        "# Testando: **Random Forest**:\n",
        "\n",
        "Foram construídos dois modelos que conseguem classificar os clientes que vão ou não cancelar o serviço de assinatura. Porém, considerando os resultados, ainda parece ser preciso buscar um modelo que resolva esse problema com mais assertividade.\n",
        "\n",
        "As árvores de decisão possuem uma característica que as impedem de serem consideradas como ferramenta ideal devido a sua imprecisão. Isso quer dizer que elas funcionam muito bem com os dados utilizados para criá-las, mas não tão bem para realizar a classificação de novas amostras. A floresta aleatória (random forest) busca resolver esse problema de _overfitting_ (sobreajuste).\n",
        "\n",
        "O **Random Forest Classifier** é considerado uma evolução da árvore de decisão e se baseia na utilização de diversas árvores de decisão para encontrar o resultado.\n",
        "\n",
        "Para realizar a previsão, o algoritmo cria diversas árvores de decisão no conjunto de dados e é realizada a predição para cada uma delas. Internamente é feita uma “votação” para analisar qual predição tem maior ocorrência e, então, essa predição torna-se a resposta final. Se fosse utilizada a mesma base de dados na criação de todas as árvores de decisão do Random Forest, as respostas de cada uma das árvores seriam iguais e o resultado da votação seria idêntico a realizar um único modelo de árvore de decisão.\n",
        "\n",
        "Para evitar esse problema, é utilizada uma técnica chamada **bootstrapping**. Ela consiste em fazer amostragens com reposição do conjunto de dados original e cada uma delas será usada para uma árvore de decisão diferente. A amostragem com reposição significa que, ao sortearmos um elemento, isso não nos impede que ele mesmo apareça em sorteios futuros. Assim, as árvores terão resultados distintos, uma vez que são treinadas com conjuntos de dados diferentes.\n",
        "\n",
        "Esse algoritmo pega os dados de treino e quebra conforme a quantidade de features que vão ser utilizados. Por exemplo, se for fornecido 5 features para serem analisados na primeira árvore, ela seguirá o processo natural de construção, buscando a pureza do ramo e o ganho de informação, tudo isso pensando nas features. Depois, na segunda árvore de decisão é treinado as mesmas ou outras features, com grupos de quantidade diferentes de features a serem exploraras. Cada árvore será responsável por determinadas features e a partir dos dados de treino fornecido, vai se ajustar e tomar a decisão final.\n",
        "\n",
        "Uma desvantagem seria a maior necessidade de processamento, por isso é necessário avaliar se é uma opção que realmente vai resolver o problema de forma eficiente.\n",
        "\n",
        "- Ao utilizar o modelo Random Forest, é possível escolher a quantidade de árvores de decisão a serem criadas. No scikit learn essa quantidade é constrolada através do parâmetro n_estimators;\n",
        "- O modelo irá criar um conjunto de dados para cada árvore a partir do método bootstrapping na base de dados original, resultando em um resultado distinto para cada uma das árvores;\n",
        "- No fim será feita uma votação entre os resultados das árvores e a classe predita na maioria das árvores é escolhida como a classificação do modelo Random Forest.\n",
        "\n"
      ]
    },
    {
      "cell_type": "code",
      "execution_count": 35,
      "metadata": {
        "id": "uI0nObtvx_hN"
      },
      "outputs": [],
      "source": [
        "# importa o módulo\n",
        "from pyspark.ml.classification import RandomForestClassifier"
      ]
    },
    {
      "cell_type": "code",
      "execution_count": 42,
      "metadata": {
        "id": "BqJxBrvopaQO"
      },
      "outputs": [],
      "source": [
        "# tem fator de aleatoriedade dentro dele e por isso add a seed\n",
        "rfc = RandomForestClassifier(seed=SEED)"
      ]
    },
    {
      "cell_type": "code",
      "execution_count": 43,
      "metadata": {
        "id": "pTb10nUrp1fE"
      },
      "outputs": [],
      "source": [
        "# ajusta o modelo com os dados de treino\n",
        "modelo_rfc = rfc.fit(treino)"
      ]
    },
    {
      "cell_type": "code",
      "execution_count": 44,
      "metadata": {
        "id": "QQpeba48paS3"
      },
      "outputs": [],
      "source": [
        "# previsões do modelo com os dados de treino\n",
        "previsoes_rfc_treino = modelo_rfc.transform(treino)"
      ]
    },
    {
      "cell_type": "code",
      "execution_count": null,
      "metadata": {
        "colab": {
          "base_uri": "https://localhost:8080/"
        },
        "id": "cjlxRIi6paVg",
        "outputId": "b97a6e9b-15eb-4c68-eda5-6082e5ad2d6b"
      },
      "outputs": [
        {
          "name": "stdout",
          "output_type": "stream",
          "text": [
            "+--------------------+-----+--------------------+--------------------+----------+\n",
            "|            features|label|       rawPrediction|         probability|prediction|\n",
            "+--------------------+-----+--------------------+--------------------+----------+\n",
            "|(24,[0,1,2,3,4,5,...|    0|[15.0052773466704...|[0.75026386733352...|       0.0|\n",
            "|(24,[0,1,2,3,4,5,...|    0|[16.9295040273249...|[0.84647520136624...|       0.0|\n",
            "|(24,[0,1,2,3,4,5,...|    0|[9.13052909106814...|[0.45652645455340...|       1.0|\n",
            "|(24,[0,1,2,3,4,5,...|    0|[9.13052909106814...|[0.45652645455340...|       1.0|\n",
            "|(24,[0,1,2,3,4,5,...|    0|[8.59288938528764...|[0.42964446926438...|       1.0|\n",
            "|(24,[0,1,2,3,4,5,...|    1|[5.59647122885698...|[0.27982356144284...|       1.0|\n",
            "|(24,[0,1,2,3,4,5,...|    0|[9.33276328267787...|[0.46663816413389...|       1.0|\n",
            "|(24,[0,1,2,3,4,5,...|    1|[5.21616013157118...|[0.26080800657855...|       1.0|\n",
            "|(24,[0,1,2,3,4,5,...|    0|[5.45640255581361...|[0.27282012779068...|       1.0|\n",
            "|(24,[0,1,2,3,4,5,...|    0|[4.60442649894724...|[0.23022132494736...|       1.0|\n",
            "|(24,[0,1,2,3,4,5,...|    0|[5.67535692640751...|[0.28376784632037...|       1.0|\n",
            "|(24,[0,1,2,3,4,5,...|    0|[12.0200554644482...|[0.60100277322241...|       0.0|\n",
            "|(24,[0,1,2,3,4,5,...|    0|[4.78964359060310...|[0.23948217953015...|       1.0|\n",
            "|(24,[0,1,2,3,4,5,...|    0|[16.0034864403362...|[0.80017432201681...|       0.0|\n",
            "|(24,[0,1,2,3,4,5,...|    0|[9.33276328267787...|[0.46663816413389...|       1.0|\n",
            "|(24,[0,1,2,3,4,5,...|    1|[7.72923092350890...|[0.38646154617544...|       1.0|\n",
            "|(24,[0,1,2,3,4,5,...|    0|[15.9609332488468...|[0.79804666244234...|       0.0|\n",
            "|(24,[0,1,2,3,4,5,...|    0|[7.08160776437640...|[0.35408038821882...|       1.0|\n",
            "|(24,[0,1,2,3,4,5,...|    0|[18.2497256374866...|[0.91248628187433...|       0.0|\n",
            "|(24,[0,1,2,3,4,5,...|    0|[14.4759069267546...|[0.72379534633773...|       0.0|\n",
            "+--------------------+-----+--------------------+--------------------+----------+\n",
            "only showing top 20 rows\n",
            "\n"
          ]
        }
      ],
      "source": [
        "# df composto das mesmas 5 colunas que o lr e decision tree\n",
        "previsoes_rfc_treino.show()"
      ]
    },
    {
      "cell_type": "markdown",
      "metadata": {
        "id": "07pKd6tcqdgY"
      },
      "source": [
        "### **Métricas para avaliar o modelo:**\n",
        "\n",
        "Para calcular as métricas é preciso fazer a transformação dos dados para os de teste."
      ]
    },
    {
      "cell_type": "code",
      "execution_count": 45,
      "metadata": {
        "id": "dQDnLjhcpaYP"
      },
      "outputs": [],
      "source": [
        "previsoes_rfc_teste = modelo_rfc.transform(teste)"
      ]
    },
    {
      "cell_type": "code",
      "execution_count": null,
      "metadata": {
        "colab": {
          "base_uri": "https://localhost:8080/"
        },
        "id": "ZacietB6q18I",
        "outputId": "a71096f2-b236-4116-e9cb-e6cb7a033728"
      },
      "outputs": [
        {
          "name": "stdout",
          "output_type": "stream",
          "text": [
            "+--------------------+-----+--------------------+--------------------+----------+\n",
            "|            features|label|       rawPrediction|         probability|prediction|\n",
            "+--------------------+-----+--------------------+--------------------+----------+\n",
            "|(24,[0,1,2,3,4,5,...|    0|[16.7433871675615...|[0.83716935837807...|       0.0|\n",
            "|(24,[0,1,2,3,4,5,...|    0|[7.27313214599648...|[0.36365660729982...|       1.0|\n",
            "|(24,[0,1,2,3,4,5,...|    1|[7.46885072161585...|[0.37344253608079...|       1.0|\n",
            "|(24,[0,1,2,3,4,5,...|    1|[9.33276328267787...|[0.46663816413389...|       1.0|\n",
            "|(24,[0,1,2,3,4,5,...|    0|[7.79829004739264...|[0.38991450236963...|       1.0|\n",
            "|(24,[0,1,2,3,4,5,...|    0|[7.13263407834549...|[0.35663170391727...|       1.0|\n",
            "|(24,[0,1,2,3,4,5,...|    0|[4.45872635511159...|[0.22293631775557...|       1.0|\n",
            "|(24,[0,1,2,3,4,5,...|    0|[7.84691519125130...|[0.39234575956256...|       1.0|\n",
            "|(24,[0,1,2,3,4,5,...|    0|[9.94796150783366...|[0.49739807539168...|       1.0|\n",
            "|(24,[0,1,2,3,4,5,...|    0|[13.9419392354793...|[0.69709696177396...|       0.0|\n",
            "|(24,[0,1,2,3,4,5,...|    1|[5.91309232317621...|[0.29565461615881...|       1.0|\n",
            "|(24,[0,1,2,3,4,5,...|    1|[4.00056870239560...|[0.20002843511978...|       1.0|\n",
            "|(24,[0,1,2,3,4,5,...|    0|[18.3120509476018...|[0.91560254738009...|       0.0|\n",
            "|(24,[0,1,2,3,4,8,...|    0|[11.9244461164393...|[0.59622230582196...|       0.0|\n",
            "|(24,[0,1,2,3,4,8,...|    0|[15.3485289130138...|[0.76742644565069...|       0.0|\n",
            "|(24,[0,1,2,3,4,8,...|    0|[16.5284444417352...|[0.82642222208676...|       0.0|\n",
            "|(24,[0,1,2,3,5,6,...|    0|[18.0005759997679...|[0.90002879998839...|       0.0|\n",
            "|(24,[0,1,2,3,5,6,...|    0|[12.7577462101532...|[0.63788731050766...|       0.0|\n",
            "|(24,[0,1,2,3,5,6,...|    0|[17.3802234084668...|[0.86901117042334...|       0.0|\n",
            "|(24,[0,1,2,3,5,6,...|    0|[17.2590921858649...|[0.86295460929324...|       0.0|\n",
            "+--------------------+-----+--------------------+--------------------+----------+\n",
            "only showing top 20 rows\n",
            "\n"
          ]
        }
      ],
      "source": [
        "# visualizando as previsões de teste\n",
        "previsoes_rfc_teste.show()"
      ]
    },
    {
      "cell_type": "code",
      "execution_count": null,
      "metadata": {
        "colab": {
          "base_uri": "https://localhost:8080/"
        },
        "id": "LQwbxxvIq1_I",
        "outputId": "4276cbc9-3f78-48a6-c790-132483dff91a"
      },
      "outputs": [
        {
          "name": "stdout",
          "output_type": "stream",
          "text": [
            "Random Forest Classifier\n",
            "========================================\n",
            "Dados de Treino\n",
            "========================================\n",
            "Matriz de Confusão\n",
            "----------------------------------------\n",
            "                     Previsto\n",
            "                Churn       Não-Churn\n",
            "     Churn        2950         661\n",
            "Real\n",
            "     Não-Churn    884         2711\n",
            "----------------------------------------\n",
            "Métricas\n",
            "----------------------------------------\n",
            "Acurácia: 0.785595\n",
            "Precisão: 0.769431\n",
            "Recall: 0.816948\n",
            "F1: 0.792478\n",
            "\n",
            "========================================\n",
            "Dados de Teste\n",
            "========================================\n",
            "Matriz de Confusão\n",
            "----------------------------------------\n",
            "                     Previsto\n",
            "                Churn       Não-Churn\n",
            "     Churn        1257         306\n",
            "Real\n",
            "     Não-Churn    416         1163\n",
            "----------------------------------------\n",
            "Métricas\n",
            "----------------------------------------\n",
            "Acurácia: 0.770210\n",
            "Precisão: 0.751345\n",
            "Recall: 0.804223\n",
            "F1: 0.776885\n"
          ]
        }
      ],
      "source": [
        "# Sumário completo com as métricas do modelo\n",
        "print('Random Forest Classifier')\n",
        "print(\"=\"*40)\n",
        "print(\"Dados de Treino\")\n",
        "print(\"=\"*40)\n",
        "print(\"Matriz de Confusão\")\n",
        "print(\"-\"*40)\n",
        "calcula_mostra_matriz_confusao(previsoes_rfc_treino, normalize=False)\n",
        "print(\"-\"*40)\n",
        "print(\"Métricas\")\n",
        "print(\"-\"*40)\n",
        "print(\"Acurácia: %f\" % evaluator.evaluate(previsoes_rfc_treino, {evaluator.metricName: \"accuracy\"}))\n",
        "print(\"Precisão: %f\" % evaluator.evaluate(previsoes_rfc_treino, {evaluator.metricName: \"precisionByLabel\", evaluator.metricLabel: 1}))\n",
        "print(\"Recall: %f\" % evaluator.evaluate(previsoes_rfc_treino, {evaluator.metricName: \"recallByLabel\", evaluator.metricLabel: 1}))\n",
        "print(\"F1: %f\" % evaluator.evaluate(previsoes_rfc_treino, {evaluator.metricName: \"fMeasureByLabel\", evaluator.metricLabel: 1}))\n",
        "print(\"\")\n",
        "print(\"=\"*40)\n",
        "print(\"Dados de Teste\")\n",
        "print(\"=\"*40)\n",
        "print(\"Matriz de Confusão\")\n",
        "print(\"-\"*40)\n",
        "calcula_mostra_matriz_confusao(previsoes_rfc_teste, normalize=False)\n",
        "print(\"-\"*40)\n",
        "print(\"Métricas\")\n",
        "print(\"-\"*40)\n",
        "print(\"Acurácia: %f\" % evaluator.evaluate(previsoes_rfc_teste, {evaluator.metricName: \"accuracy\"}))\n",
        "print(\"Precisão: %f\" % evaluator.evaluate(previsoes_rfc_teste, {evaluator.metricName: \"precisionByLabel\", evaluator.metricLabel: 1}))\n",
        "print(\"Recall: %f\" % evaluator.evaluate(previsoes_rfc_teste, {evaluator.metricName: \"recallByLabel\", evaluator.metricLabel: 1}))\n",
        "print(\"F1: %f\" % evaluator.evaluate(previsoes_rfc_teste, {evaluator.metricName: \"fMeasureByLabel\", evaluator.metricLabel: 1}))"
      ]
    },
    {
      "cell_type": "markdown",
      "metadata": {
        "id": "j_Mmczu1ruk-"
      },
      "source": [
        "Comparando com as métricas obtidas pelo modelo da Decision Tree.\n",
        "\n",
        "- **Falsos negativos**:\n",
        "\n",
        "A **Decision Tree Classifier estava errando bastante nos falsos negativos** dos _dados de treino_, sendo _827 erros_. Já a **Random Forest Classifier** teve _661 erros_, isso indica que ela teve um ajuste melhor aos dados de treino e performou melhor nessa métrica.\n",
        "\n",
        "- **Precisão**:\n",
        "\n",
        "A **precisão**, em relação aos dados de treino, da **árvore de decisão foi superior a Random Forest Classifier**.\n",
        "\n",
        "Em relação aos dados de teste e quão bem o modelo consegue generalizar: está parecido com os dados de teste. A Random Forest errou mais para falsos positivos quando comparado a Decision Tree.\n",
        "\n",
        "- **Dados de Teste**:\n",
        "\n",
        "Nenhum dos nossos modelos conheciam anteriormente os dados de teste. Dessa forma, a árvore de decisão pontuou que 382 clientes não entrariam em churn, mas entraram, portanto, esse foi seu número de erros. Enquanto isso, a floresta errou um pouco menos, 306. Porém, a árvore de decisão classificou que 336 clientes cancelariam o serviço, mas não cancelaram. Já a floresta 416 clientes, portanto nessa métrica, apresentou mais erros.\n",
        "\n",
        " > **Conclusão**: os dois **algoritmos de arvores estão perfomando bem. Seguindo o pipeline de ajuste é necessário realizar a otimização dos hiperparametros**, uma vez que até o momento foram utilizados os parâmetros default."
      ]
    },
    {
      "cell_type": "code",
      "execution_count": null,
      "metadata": {
        "id": "XsGCnbAlq2Bl"
      },
      "outputs": [],
      "source": [
        "from utils import compara_metricas_modelos\n",
        "\n",
        "print(compara_metricas_modelos({'Logistic Regression': previsoes_lr_teste,\n",
        "                                'DecisionTreeClassifier': previsoes_dtc_teste,\n",
        "                                'RandomForestClassifier': previsoes_rfc_teste}))"
      ]
    },
    {
      "cell_type": "markdown",
      "metadata": {
        "id": "t1VHdM94N09a"
      },
      "source": [
        "# **Otimização de Hiperparâmetros**\n",
        "\n",
        "Cada um dos modelos de machine learning possui um comportamento distinto para prever os resultados utilizando métodos matemáticos e computacionais. O comportamento de um modelo dependerá de constantes, parâmetros ou características para que a fórmula matemática ou o procedimento computacional se comporte de maneira diferente.\n",
        "\n",
        "Esses argumentos que controlam o comportamento de um modelo de machine learning são chamados de hiperparâmetros. Ao alterar o valor desses parâmetros, modificamos também o desempenho do modelo, uma vez que, para cada conjunto de dados diferentes, é necessário um ajuste diferente dos hiperparâmetros para um modelo ser melhor adaptado a esse conjunto.\n",
        "\n",
        "Hiperparâmetros Árvore de Decisão:\n",
        "\n",
        "**maxDepth**: profundidade máxima que a árvore pode alcançar;\n",
        "\n",
        "Outro hiperparâmetro que pode ser controlado na árvore de decisão é o minInstancesPerNode, que está relacionado à quantidade mínima de amostras dos dados de treinamento para cada folha. Isso significa que, se há um nó na árvore com a quantidade de registros definida em minInstancesPerNode, este nó não pode ser dividido em outros nós. c\n",
        "\n",
        "**Validação Cruzada**: é um procedimento de reamostragem dos dados, variando os grupos de dados, que serão ajustados e a performance média do modelo. Entende melhor o comportamento do algoritmo com os dados. É uma etapa para diminuir o efeito da aleatoriedade ao selecionar um grupo de dados. Essa técnica corresponde a umas das ferramentas presentes no pacote de _tuning_ do PySpark. O módulo de **tuning** se refere aos hiperparâmetros.\n",
        "\n",
        "Na etapa de tuning existem 2 ferramentas: **a de variar os hiperparâmetros**; e a de **criar a validação cruzada** na ferramenta."
      ]
    },
    {
      "cell_type": "code",
      "execution_count": 38,
      "metadata": {
        "id": "PuhwzLV2u4Nr"
      },
      "outputs": [],
      "source": [
        "from pyspark.ml.tuning import CrossValidator, ParamGridBuilder"
      ]
    },
    {
      "cell_type": "code",
      "execution_count": 50,
      "metadata": {
        "id": "G_r_BLddu4Qf"
      },
      "outputs": [],
      "source": [
        "# Otimização de hiperparâmetros - Arvore de Decisão\n",
        "# dtc = DecisionTreeClassifier(seed=SEED)"
      ]
    },
    {
      "cell_type": "code",
      "execution_count": 52,
      "metadata": {
        "id": "rzwznYnIu4UC"
      },
      "outputs": [],
      "source": [
        "# grid: etapa de seleção dos hiperparâmetros e valores que serão explorados\n",
        "# addGrid recebe os [valores que serão explorados]\n",
        "# testando profundidade [2, 5, 10]\n",
        "grid = ParamGridBuilder()\\\n",
        "        .addGrid(dtc.maxDepth, [2, 5, 10])"
      ]
    },
    {
      "cell_type": "code",
      "execution_count": 53,
      "metadata": {
        "id": "TH9lr3_Bvt4k"
      },
      "outputs": [],
      "source": [
        "# adicionando hiperparametro maxBins\n",
        "grid = ParamGridBuilder()\\\n",
        "        .addGrid(dtc.maxDepth, [2, 5, 10])\\\n",
        "        .addGrid(dtc.maxBins, [10, 32, 45])"
      ]
    },
    {
      "cell_type": "markdown",
      "metadata": {
        "id": "eGbDnqLXv6f7"
      },
      "source": [
        "> Isso quer dizer que serão testadas todas as combinações de `maxDepth` e `maxBins` em algoritmos, novamente, buscando encontrar o melhor ajuste para os dados."
      ]
    },
    {
      "cell_type": "code",
      "execution_count": 54,
      "metadata": {
        "id": "lHHCwNuSv2vY"
      },
      "outputs": [],
      "source": [
        "# add .build(), para que de fato seja construído o ParamGrid\n",
        "grid = ParamGridBuilder()\\\n",
        "        .addGrid(dtc.maxDepth, [2, 5, 10])\\\n",
        "        .addGrid(dtc.maxBins, [10, 32, 45])\\\n",
        "        .build()"
      ]
    },
    {
      "cell_type": "code",
      "execution_count": 55,
      "metadata": {
        "id": "hJT_vyKBwLt2"
      },
      "outputs": [],
      "source": [
        "# construção de um avaliador\n",
        "# como será avaliado com qual hiperparâmetro determinado algoritmo funciona melhor?\n",
        "evaluator = MulticlassClassificationEvaluator()"
      ]
    },
    {
      "cell_type": "markdown",
      "metadata": {
        "id": "izL-1PEdwTZJ"
      },
      "source": [
        "**Agora, é possível utilizar o CrossValidator de fato, passando essas informações para que ele faça a validação cruzada e busque pelo hiperparâmetro ideal.**"
      ]
    },
    {
      "cell_type": "markdown",
      "metadata": {
        "id": "owOdXWIk15T6"
      },
      "source": [
        "Construção do CrossValidator:\n",
        "- `estimator`: estimador que será utilizado, por exemplo, RandomForestClassifier ou DecisionTreeClassifier.\n",
        "\n",
        "- `estimatorParamMaps`: parâmetros e valores desses parâmetros que deverão ser utilizados ao realizar a validação cruzada.\n",
        "\n",
        "- `evaluator`: define o objeto responsável por avaliar os modelos.\n",
        "\n",
        "- `numFolds`: número de dobras, ou seja, quantas partes do conjunto de dados deverão ser utilizados para treino e teste a cada iteração da validação cruzada."
      ]
    },
    {
      "cell_type": "code",
      "execution_count": 57,
      "metadata": {
        "id": "FZeN2OSJwdDp"
      },
      "outputs": [],
      "source": [
        "# construção do CrossValidator\n",
        "# estimator: qual algoritmo está sendo avaliado? dtc (DecisionTreeClassifier)\n",
        "# estimatorParamMaps: responsável pelo mapeamento dos hiperparâmetros escolhidos\n",
        "# evaluator: avalia o desempenho do modelo\n",
        "# Dois parametros ligados ao funcionamento da validação cruzada:\n",
        "# numFolds: responsavel pela quebra dos dados;\n",
        "# seed: reproduzir aleatoriedade\n",
        "dtc_cv = CrossValidator(\n",
        "    estimator=dtc,\n",
        "    estimatorParamMaps=grid,\n",
        "    evaluator=evaluator,\n",
        "    numFolds=3,\n",
        "    seed=SEED\n",
        ")"
      ]
    },
    {
      "cell_type": "markdown",
      "metadata": {
        "id": "tnf5tqBz1NpZ"
      },
      "source": [
        "Ao realizar a validação cruzada é possível definir o número de folds (dobras) que será utilizado para treino e teste. Por exemplo, se o número de dobras for igual a 3, isso significa que o conjunto de dados será dividido em 3 partes. Logo, o modelo será treinado na parte 2 e 3 e testado na parte 1.\n",
        "\n",
        "Na próxima iteração será treinado na parte 1 e 3 e testado na parte 2 e, assim, sucessivamente até que todas as partes tenham sido utilizadas para teste. Dessa forma, a média das acurácias obtidas nos fornecerá uma visão mais geral de como o modelo se comporta para dados que o modelo não conhece."
      ]
    },
    {
      "cell_type": "code",
      "execution_count": 58,
      "metadata": {
        "id": "TemUOGaDxPMb"
      },
      "outputs": [],
      "source": [
        "# Usando dtc_cv (DecisionTreeClassifier CrossValidator) para ajuste e previsão dos dados\n",
        "modelo_dtc_cv = dtc_cv.fit(treino)"
      ]
    },
    {
      "cell_type": "markdown",
      "metadata": {
        "id": "xMHZ5-oIxdGn"
      },
      "source": [
        "> Nesse processo são avaliados diversos algortimos, variando combinações de hiperparâmetros, conforme determinado no grid, e busca os melhores hiperparâmetros para o conjunto de dados."
      ]
    },
    {
      "cell_type": "code",
      "execution_count": 59,
      "metadata": {
        "id": "Q6ciLTwGxZCD"
      },
      "outputs": [],
      "source": [
        "# previsões para os dados de teste\n",
        "previsoes_dtc_cv_teste = modelo_dtc_cv.transform(teste)"
      ]
    },
    {
      "cell_type": "code",
      "execution_count": 62,
      "metadata": {
        "colab": {
          "base_uri": "https://localhost:8080/"
        },
        "id": "SZZrVYUzxxJ3",
        "outputId": "1424ca68-c09f-48d4-aa0c-7c0ab862ab14"
      },
      "outputs": [
        {
          "name": "stdout",
          "output_type": "stream",
          "text": [
            "Decision Tree Classifier - Tuning\n",
            "========================================\n",
            "Dados de Teste\n",
            "========================================\n",
            "Matriz de Confusão\n",
            "----------------------------------------\n",
            "                     Previsto\n",
            "                Churn       Não-Churn\n",
            "     Churn        1319         244\n",
            "Real\n",
            "     Não-Churn    430         1149\n",
            "----------------------------------------\n",
            "Métricas\n",
            "----------------------------------------\n",
            "Acurácia: 0.785487\n",
            "Precisão: 0.754145\n",
            "Recall: 0.843890\n",
            "F1: 0.796498\n"
          ]
        }
      ],
      "source": [
        "print('Decision Tree Classifier - Tuning')\n",
        "print(\"=\"*40)\n",
        "print(\"Dados de Teste\")\n",
        "print(\"=\"*40)\n",
        "print(\"Matriz de Confusão\")\n",
        "print(\"-\"*40)\n",
        "calcula_mostra_matriz_confusao(previsoes_dtc_cv_teste, normalize=False)\n",
        "print(\"-\"*40)\n",
        "print(\"Métricas\")\n",
        "print(\"-\"*40)\n",
        "print(\"Acurácia: %f\" % evaluator.evaluate(previsoes_dtc_cv_teste, {evaluator.metricName: \"accuracy\"}))\n",
        "print(\"Precisão: %f\" % evaluator.evaluate(previsoes_dtc_cv_teste, {evaluator.metricName: \"precisionByLabel\", evaluator.metricLabel: 1}))\n",
        "print(\"Recall: %f\" % evaluator.evaluate(previsoes_dtc_cv_teste, {evaluator.metricName: \"recallByLabel\", evaluator.metricLabel: 1}))\n",
        "print(\"F1: %f\" % evaluator.evaluate(previsoes_dtc_cv_teste, {evaluator.metricName: \"fMeasureByLabel\", evaluator.metricLabel: 1}))"
      ]
    },
    {
      "cell_type": "markdown",
      "metadata": {
        "id": "PygQz6D4x15V"
      },
      "source": [
        "Para os dados de teste, na matriz de confusão é possível observar 244 falsos positivos (\"Não-Churn\"), classificados como se o cliente não fosse cancelar o serviço, sendo que na verdade cancelou.\n",
        "\n",
        "Portanto, existiram **244 erros em situações que devia ter sido priorizado o atendimento a esses clientes**; como não ocorreu, existiu uma perda pois o serviço foi cancelado.\n",
        "\n",
        "**Essa é uma métrica que deve ser otimizada**. É possível comparar esse resultado obtido com a dtc original, que teve os valores padrões.\n",
        "\n",
        "Para a métrica analisada anteriormente, referente a **falsos negativos, o número passou de 382 para 244**, ou seja, foi possível **reduzir essa métrica considerada importante**, uma vez que evita-se perder clientes (alinhado com o objetivo inicial do projeto).\n",
        "\n",
        "Vendo as outras métricas, como **acurácia, precisão, recall e F1 Score é possível observar melhorias** para quase todas, com **exceção da precisão**: com os parâmetros padrão, onde era 0.77 e passou para 0.75.\n",
        "\n",
        "> Devemos nos perguntar: **o mais importante para a nossa área de negócios é acertar todos os casos e classificar muito bem todas as situações (se o cliente cancela ou não), ou algum dos dois tem maior relevância?**\n",
        "\n",
        "**_Nesse caso, talvez a métrica da precisão não seja tão importante quanto acertar os falsos negativos._**\n",
        "\n",
        "Dessa forma é necessário refletir e entender sobre a área de negócios em que se está trabalhando, para, então, tomar a decisão final."
      ]
    },
    {
      "cell_type": "markdown",
      "metadata": {
        "id": "lkuGrLGz1-EM"
      },
      "source": [
        "# **Otimização de Hiperparâmetros**: Random Forest"
      ]
    },
    {
      "cell_type": "code",
      "execution_count": 45,
      "metadata": {
        "id": "0ixeNmDq6KIH"
      },
      "outputs": [],
      "source": [
        "# instanciar o algortimo\n",
        "rfc = RandomForestClassifier(seed=SEED)"
      ]
    },
    {
      "cell_type": "code",
      "execution_count": 49,
      "metadata": {
        "id": "xODc_SjP2Gvh"
      },
      "outputs": [],
      "source": [
        "# definir o espaço que será encontrado o melhor hiperparametro\n",
        "# numTrees: caracteristica do random forest: número de árvores\n",
        "grid = ParamGridBuilder()\\\n",
        "        .addGrid(rfc.maxDepth, [2, 5, 10])\\\n",
        "        .addGrid(rfc.maxBins, [10, 32, 45])\\\n",
        "        .addGrid(rfc.numTrees, [10, 20, 50]).build()"
      ]
    },
    {
      "cell_type": "code",
      "execution_count": 50,
      "metadata": {
        "id": "pmy7vP9_2Gyp"
      },
      "outputs": [],
      "source": [
        "evaluator = MulticlassClassificationEvaluator()"
      ]
    },
    {
      "cell_type": "code",
      "execution_count": 43,
      "metadata": {
        "id": "AQDPZN4Q2Umi"
      },
      "outputs": [],
      "source": [
        "rfc_cv = CrossValidator(\n",
        "    estimator=rfc,\n",
        "    estimatorParamMaps=grid,\n",
        "    evaluator=evaluator,\n",
        "    numFolds=3,\n",
        "    seed=SEED\n",
        ")"
      ]
    },
    {
      "cell_type": "code",
      "execution_count": 51,
      "metadata": {
        "id": "BVto83gQ2UpO"
      },
      "outputs": [],
      "source": [
        "modelo_rfc_cv = rfc_cv.fit(treino)"
      ]
    },
    {
      "cell_type": "code",
      "execution_count": 52,
      "metadata": {
        "id": "hIAbHTaL2YwL"
      },
      "outputs": [],
      "source": [
        "previsoes_rfc_cv_teste = modelo_rfc_cv.transform(teste)"
      ]
    },
    {
      "cell_type": "code",
      "execution_count": 55,
      "metadata": {
        "colab": {
          "base_uri": "https://localhost:8080/"
        },
        "id": "3EgcTlek2YzA",
        "outputId": "47c7b1c2-3899-4b77-a1fe-d21973a707b3"
      },
      "outputs": [
        {
          "name": "stdout",
          "output_type": "stream",
          "text": [
            "Random Forest Classifier - Tuning\n",
            "========================================\n",
            "Dados de Teste\n",
            "========================================\n",
            "Matriz de Confusão\n",
            "----------------------------------------\n",
            "                     Previsto\n",
            "                Churn       Não-Churn\n",
            "     Churn        1333         230\n",
            "Real\n",
            "     Não-Churn    337         1242\n",
            "----------------------------------------\n",
            "Métricas\n",
            "----------------------------------------\n",
            "Acurácia: 0.819542\n",
            "Precisão: 0.798204\n",
            "Recall: 0.852847\n",
            "F1: 0.824621\n"
          ]
        }
      ],
      "source": [
        "print('Random Forest Classifier - Tuning')\n",
        "print(\"=\"*40)\n",
        "print(\"Dados de Teste\")\n",
        "print(\"=\"*40)\n",
        "print(\"Matriz de Confusão\")\n",
        "print(\"-\"*40)\n",
        "calcula_mostra_matriz_confusao(previsoes_rfc_cv_teste, normalize=False)\n",
        "print(\"-\"*40)\n",
        "print(\"Métricas\")\n",
        "print(\"-\"*40)\n",
        "print(\"Acurácia: %f\" % evaluator.evaluate(previsoes_rfc_cv_teste, {evaluator.metricName: \"accuracy\"}))\n",
        "print(\"Precisão: %f\" % evaluator.evaluate(previsoes_rfc_cv_teste, {evaluator.metricName: \"precisionByLabel\", evaluator.metricLabel: 1}))\n",
        "print(\"Recall: %f\" % evaluator.evaluate(previsoes_rfc_cv_teste, {evaluator.metricName: \"recallByLabel\", evaluator.metricLabel: 1}))\n",
        "print(\"F1: %f\" % evaluator.evaluate(previsoes_rfc_cv_teste, {evaluator.metricName: \"fMeasureByLabel\", evaluator.metricLabel: 1}))"
      ]
    },
    {
      "cell_type": "markdown",
      "metadata": {
        "id": "nSRYYZiq3Hsa"
      },
      "source": [
        "#### **O modelo final:**\n",
        "\n",
        "O que é necessário para treinar o modelo final? _Saber quais foram os melhores hiperparâmetros que a busca encontrou_.\n",
        "\n",
        "\n",
        "\n",
        "\n",
        "\n"
      ]
    },
    {
      "cell_type": "code",
      "execution_count": 56,
      "metadata": {
        "id": "f1MjCQlV3Wb7"
      },
      "outputs": [],
      "source": [
        "melhor_modelo_rfc_cv = modelo_rfc_cv.bestModel"
      ]
    },
    {
      "cell_type": "code",
      "execution_count": 57,
      "metadata": {
        "colab": {
          "base_uri": "https://localhost:8080/"
        },
        "id": "ylwLfATr3X8k",
        "outputId": "e1c76846-fda8-4e11-a01b-5cf6e55d4bd9"
      },
      "outputs": [
        {
          "name": "stdout",
          "output_type": "stream",
          "text": [
            "10\n",
            "45\n",
            "50\n"
          ]
        }
      ],
      "source": [
        "# pegando os melhores hiperparametros\n",
        "print(melhor_modelo_rfc_cv.getMaxDepth())\n",
        "print(melhor_modelo_rfc_cv.getMaxBins())\n",
        "print(melhor_modelo_rfc_cv.getNumTrees)"
      ]
    },
    {
      "cell_type": "markdown",
      "metadata": {
        "id": "RCkJ6uGz3l99"
      },
      "source": [
        "> Valores encontrados: **10, 45 e 50**."
      ]
    },
    {
      "cell_type": "code",
      "execution_count": 58,
      "metadata": {
        "id": "GOgAyX_j3X_d"
      },
      "outputs": [],
      "source": [
        "# usando os hiperparametros encontrados para criar um novo modelo\n",
        "rfc_tunning = RandomForestClassifier(maxDepth=10, maxBins=45, numTrees=50, seed=SEED)"
      ]
    },
    {
      "cell_type": "code",
      "execution_count": 59,
      "metadata": {
        "id": "AIfn8tlf3YCT"
      },
      "outputs": [],
      "source": [
        "# etapa de ajuste aos dados de treino\n",
        "modelo_rfc_tunning = rfc_tunning.fit(dataset_prep)"
      ]
    },
    {
      "cell_type": "markdown",
      "metadata": {
        "id": "4nbHl3nV37E5"
      },
      "source": [
        "> **Como esse é o nosso modelo final, o foco é utilizar o máximo de dados possível. Por isso, se passa todos os dados, no caso o dataset chamado dataset_prep.**"
      ]
    },
    {
      "cell_type": "markdown",
      "metadata": {
        "id": "Ghscw8do4pBI"
      },
      "source": [
        "#### Como esse modelo vai funcionar quando passar para a produção?\n",
        "\n",
        "**É necessário passar as informações de um cliente novo para esse modelo.**\n",
        "\n",
        "Com esse objetivo, coloca a variável X em uma nova célula para lembrar das colunas que existiam. No caso, as colunas como 'Mais65anos', 'MesesDeContrato' e'MesesCobrados'.\n",
        "\n",
        "**São essas as características que se colhe do contrato do cliente para decidir se vai cancelar o serviço ou não.**\n",
        "\n",
        "Analisando essas colunas, é possível criar um novo cliente. O objetivo é descobrir se essa pessoa específica vai cancelar o serviço ou não.\n",
        "\n"
      ]
    },
    {
      "cell_type": "code",
      "execution_count": 60,
      "metadata": {
        "id": "MxXJih8G3YFN"
      },
      "outputs": [],
      "source": [
        "novo_cliente = [{\n",
        "    'Mais65anos': 0,\n",
        "    'MesesDeContrato': 1,\n",
        "    'MesesCobrados': 45.30540797610398,\n",
        "    'Conjuge': 0,\n",
        "    'Dependentes': 0,\n",
        "    'TelefoneFixo': 0,\n",
        "    'MaisDeUmaLinhaTelefonica': 0,\n",
        "    'SegurancaOnline': 0,\n",
        "    'BackupOnline': 0,\n",
        "    'SeguroDispositivo': 0,\n",
        "    'SuporteTecnico': 0,\n",
        "    'TVaCabo': 1,\n",
        "    'StreamingFilmes': 1,\n",
        "    'ContaCorreio': 1,\n",
        "    'Internet_DSL': 1,\n",
        "    'Internet_FibraOptica': 0,\n",
        "    'Internet_Nao': 0,\n",
        "    'TipoContrato_Mensalmente': 1,\n",
        "    'TipoContrato_UmAno': 0,\n",
        "    'TipoContrato_DoisAnos': 0,\n",
        "    'MetodoPagamento_DebitoEmConta': 0,\n",
        "    'MetodoPagamento_CartaoCredito': 0,\n",
        "    'MetodoPagamento_BoletoEletronico': 1,\n",
        "    'MetodoPagamento_Boleto': 0\n",
        "}]"
      ]
    },
    {
      "cell_type": "markdown",
      "metadata": {
        "id": "llWglrrm5UJx"
      },
      "source": [
        "> **Essa é uma lista que tem um dicionário, onde as chaves são os nomes das colunas - as características do cliente e do contrato dele. E o valor são os valores respectivos.**\n",
        "\n",
        "Por exemplo, esse cliente tem o valor 0 na chave 'Mais65anos'. Isso significa que essa pessoa não tem mais de 65 anos. Também pode-se notar que tem apenas 1 mês de contrato, 45 meses cobrados e não possui dependentes. São essas diversas características que o cliente apresenta.\n",
        "\n",
        "Agora, é preciso **transformar esses dados de maneira que o modelo consiga entendê-los** (igual aos dados brutos no início da nossa análise).\n"
      ]
    },
    {
      "cell_type": "code",
      "execution_count": 61,
      "metadata": {
        "colab": {
          "base_uri": "https://localhost:8080/"
        },
        "id": "wKpoAe_f5cTy",
        "outputId": "bc501420-76fc-4f89-fd9c-8cb956a867ae"
      },
      "outputs": [
        {
          "name": "stdout",
          "output_type": "stream",
          "text": [
            "+------------+-------+------------+-----------+------------+--------------------+------------+----------+------------------------+-----------------+---------------+----------------------+--------------------------------+-----------------------------+-----------------------------+---------------+-----------------+---------------+--------------+-------+------------+---------------------+------------------------+------------------+\n",
            "|BackupOnline|Conjuge|ContaCorreio|Dependentes|Internet_DSL|Internet_FibraOptica|Internet_Nao|Mais65anos|MaisDeUmaLinhaTelefonica|    MesesCobrados|MesesDeContrato|MetodoPagamento_Boleto|MetodoPagamento_BoletoEletronico|MetodoPagamento_CartaoCredito|MetodoPagamento_DebitoEmConta|SegurancaOnline|SeguroDispositivo|StreamingFilmes|SuporteTecnico|TVaCabo|TelefoneFixo|TipoContrato_DoisAnos|TipoContrato_Mensalmente|TipoContrato_UmAno|\n",
            "+------------+-------+------------+-----------+------------+--------------------+------------+----------+------------------------+-----------------+---------------+----------------------+--------------------------------+-----------------------------+-----------------------------+---------------+-----------------+---------------+--------------+-------+------------+---------------------+------------------------+------------------+\n",
            "|           0|      0|           1|          0|           1|                   0|           0|         0|                       0|45.30540797610398|              1|                     0|                               1|                            0|                            0|              0|                0|              1|             0|      1|           0|                    0|                       1|                 0|\n",
            "+------------+-------+------------+-----------+------------+--------------------+------------+----------+------------------------+-----------------+---------------+----------------------+--------------------------------+-----------------------------+-----------------------------+---------------+-----------------+---------------+--------------+-------+------------+---------------------+------------------------+------------------+\n",
            "\n"
          ]
        }
      ],
      "source": [
        "# cria um DataFrame Spark, passando novo_cliente\n",
        "novo_cliente = spark.createDataFrame(novo_cliente)\n",
        "novo_cliente.show()"
      ]
    },
    {
      "cell_type": "code",
      "execution_count": 62,
      "metadata": {
        "id": "08ZgJ-id50PX"
      },
      "outputs": [],
      "source": [
        "# passa os dados para a característica do DataFrame Spark\n",
        "# fazer a transformação dos dados -> para um vetor\n",
        "assembler = VectorAssembler(inputCols = X, outputCol = 'features')"
      ]
    },
    {
      "cell_type": "code",
      "execution_count": 63,
      "metadata": {
        "id": "3Qb0dfam50SR"
      },
      "outputs": [],
      "source": [
        "# novo_cliente_prep é para o novo cliente vetorizado que vai ser igual a assembler.transform()\n",
        "novo_cliente_prep = assembler.transform(novo_cliente).select('features')"
      ]
    },
    {
      "cell_type": "code",
      "execution_count": 64,
      "metadata": {
        "colab": {
          "base_uri": "https://localhost:8080/"
        },
        "id": "4KgygTu16b-8",
        "outputId": "17c9582e-011a-410e-b0c5-b64c35d1cb4b"
      },
      "outputs": [
        {
          "name": "stdout",
          "output_type": "stream",
          "text": [
            "+----------------------------------------------------------------------------+\n",
            "|features                                                                    |\n",
            "+----------------------------------------------------------------------------+\n",
            "|(24,[1,2,11,12,13,14,17,22],[1.0,45.30540797610398,1.0,1.0,1.0,1.0,1.0,1.0])|\n",
            "+----------------------------------------------------------------------------+\n",
            "\n"
          ]
        }
      ],
      "source": [
        "# analisando o resultado do novo_cliente_prep\n",
        "novo_cliente_prep.show(truncate=False)"
      ]
    },
    {
      "cell_type": "code",
      "execution_count": 65,
      "metadata": {
        "colab": {
          "base_uri": "https://localhost:8080/"
        },
        "id": "am9Wkpkk6cBy",
        "outputId": "0398f9d5-2106-4ca0-ca9b-90cdb4cd9dd1"
      },
      "outputs": [
        {
          "name": "stdout",
          "output_type": "stream",
          "text": [
            "+--------------------+--------------------+--------------------+----------+\n",
            "|            features|       rawPrediction|         probability|prediction|\n",
            "+--------------------+--------------------+--------------------+----------+\n",
            "|(24,[1,2,11,12,13...|[5.16473071594386...|[0.10329461431887...|       1.0|\n",
            "+--------------------+--------------------+--------------------+----------+\n",
            "\n"
          ]
        }
      ],
      "source": [
        "# faz a previsão\n",
        "modelo_rfc_tunning.transform(novo_cliente_prep).show()"
      ]
    },
    {
      "cell_type": "markdown",
      "metadata": {
        "id": "NeRopdQq6u8d"
      },
      "source": [
        "> Tabela com 4 colunas: \"features\" (as características/problemas), \"rawPrediction\", \"probability\" e \"prediction\".\n",
        "\n",
        "**A coluna \"prediction\" contém a informação de interesse. O valor 1.0 significa que o modelo prevê que esse cliente vai cancelar o serviço. _Isso significa que esse seria um cliente que o time de marketing deveria priorizar e oferecer promoções para tentar retê-lo_.**\n",
        "\n",
        "Isso também significa que o modelo está funcionando, pois faz previsões para clientes que ainda não conhecia com base no histórico que se ajustou.\n",
        "\n",
        "**Próximo passo:** colocar o modelo em produção.\n"
      ]
    },
    {
      "cell_type": "code",
      "execution_count": 66,
      "metadata": {
        "id": "qLOTw9Il9RIw"
      },
      "outputs": [],
      "source": [
        "# Otimizando Logistic Regression\n",
        "lr = LogisticRegression()"
      ]
    },
    {
      "cell_type": "code",
      "execution_count": 67,
      "metadata": {
        "id": "Z5cZfaIN9WRE"
      },
      "outputs": [],
      "source": [
        "# definindo hiperparametros para explorar\n",
        "grid = ParamGridBuilder() \\\n",
        "    .addGrid(lr.regParam, [0.1, 0.01]) \\\n",
        "    .addGrid(lr.elasticNetParam, [0.0, 1.0])\\\n",
        "    .build()"
      ]
    },
    {
      "cell_type": "code",
      "execution_count": 68,
      "metadata": {
        "id": "JmE8H0-39aZ0"
      },
      "outputs": [],
      "source": [
        "# treinar o novo modelo e avaliar os resultados\n",
        "lr_cv = CrossValidator(\n",
        "    estimator=lr,\n",
        "    estimatorParamMaps=grid,\n",
        "    evaluator=evaluator,\n",
        "    numFolds=3,\n",
        "    seed=SEED\n",
        ")"
      ]
    },
    {
      "cell_type": "code",
      "execution_count": 69,
      "metadata": {
        "id": "TEBQqsOf6y-S"
      },
      "outputs": [],
      "source": [
        "modelo_lg_cv = lr_cv.fit(treino)"
      ]
    }
  ],
  "metadata": {
    "colab": {
      "provenance": []
    },
    "kernelspec": {
      "display_name": "Python 3",
      "language": "python",
      "name": "python3"
    },
    "language_info": {
      "codemirror_mode": {
        "name": "ipython",
        "version": 3
      },
      "file_extension": ".py",
      "mimetype": "text/x-python",
      "name": "python",
      "nbconvert_exporter": "python",
      "pygments_lexer": "ipython3",
      "version": "3.8.8"
    }
  },
  "nbformat": 4,
  "nbformat_minor": 0
}
